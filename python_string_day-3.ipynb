{
 "cells": [
  {
   "cell_type": "code",
   "execution_count": 1,
   "id": "c2bc8abf-85dd-4852-94d0-cc374013e396",
   "metadata": {},
   "outputs": [
    {
     "name": "stdout",
     "output_type": "stream",
     "text": [
      "Welcome to String class\n"
     ]
    }
   ],
   "source": [
    "#Strings in python are surrounded by either single quotation marks (''), or double quotation marks(\"\").\n",
    "print(\"Welcome to String class\")"
   ]
  },
  {
   "cell_type": "code",
   "execution_count": 45,
   "id": "b3da6a98-fe0e-40bc-b9c4-9d732f07048f",
   "metadata": {},
   "outputs": [
    {
     "name": "stdout",
     "output_type": "stream",
     "text": [
      "Hello, World!\n",
      "Hello, World!\n"
     ]
    }
   ],
   "source": [
    "# Creating Strings\n",
    "single_quote_string = 'Hello, World!'\n",
    "double_quote_string = \"Hello, World!\"\n",
    "print(single_quote_string)\n",
    "print(double_quote_string)"
   ]
  },
  {
   "cell_type": "code",
   "execution_count": 42,
   "id": "c8de4305-9940-442b-9f04-00424e8ebbda",
   "metadata": {},
   "outputs": [
    {
     "name": "stdout",
     "output_type": "stream",
     "text": [
      "This is a string\n",
      "that spans multiple\n",
      "lines.\n"
     ]
    }
   ],
   "source": [
    "# Multi-line Strings\n",
    "multi_line_string = \"\"\"This is a string\n",
    "that spans multiple\n",
    "lines.\"\"\"\n",
    "print(multi_line_string)"
   ]
  },
  {
   "cell_type": "code",
   "execution_count": null,
   "id": "324c9d1d-7adb-489e-890a-f3a477f702f2",
   "metadata": {},
   "outputs": [],
   "source": [
    "#string are immutable in python so you cannot modify string but still perform some opreration on it\n"
   ]
  },
  {
   "cell_type": "code",
   "execution_count": 5,
   "id": "8d2c8c25-ff61-4a6a-8ff9-afd4d9db3c39",
   "metadata": {},
   "outputs": [
    {
     "name": "stdout",
     "output_type": "stream",
     "text": [
      "Hello, World! Welcome to Python Programming.  \n"
     ]
    }
   ],
   "source": [
    "my_string = \"Hello, World! Welcome to Python Programming.  \"\n",
    "print(my_string)"
   ]
  },
  {
   "cell_type": "code",
   "execution_count": 11,
   "id": "b5a7c6d0-1c1c-4cab-b42f-4d12314a3086",
   "metadata": {},
   "outputs": [
    {
     "data": {
      "text/plain": [
       "7"
      ]
     },
     "execution_count": 11,
     "metadata": {},
     "output_type": "execute_result"
    }
   ],
   "source": [
    "#index()  ::  print index value of string element\n",
    "my_string.index('W')        #print the index of first occurance of given character"
   ]
  },
  {
   "cell_type": "code",
   "execution_count": 9,
   "id": "41b50ceb-69c5-4a6c-92a3-58a8ab145dfb",
   "metadata": {},
   "outputs": [
    {
     "data": {
      "text/plain": [
       "7"
      ]
     },
     "execution_count": 9,
     "metadata": {},
     "output_type": "execute_result"
    }
   ],
   "source": [
    "my_string.index('World')        #print the index of first character of given word"
   ]
  },
  {
   "cell_type": "code",
   "execution_count": 58,
   "id": "92d6fa42-1242-418d-97a0-5912fbaa1643",
   "metadata": {},
   "outputs": [
    {
     "name": "stdout",
     "output_type": "stream",
     "text": [
      "7\n"
     ]
    }
   ],
   "source": [
    "# find()  ::  Finding Substrings, it will return index of first letter of substring\n",
    "index = my_string.find(\"World\")  \n",
    "print(index)"
   ]
  },
  {
   "cell_type": "code",
   "execution_count": 97,
   "id": "6c299030-2502-4ea5-9de1-a03de42b5328",
   "metadata": {},
   "outputs": [
    {
     "name": "stdout",
     "output_type": "stream",
     "text": [
      "36\n"
     ]
    }
   ],
   "source": [
    "# rfind()  ::  finding first occurance from last\n",
    "#rindex()\n",
    "last_index = my_string.rfind(\"r\")  \n",
    "print(last_index)"
   ]
  },
  {
   "cell_type": "code",
   "execution_count": 14,
   "id": "69844398-cb05-4649-b7cb-300243d0f235",
   "metadata": {},
   "outputs": [
    {
     "data": {
      "text/plain": [
       "2"
      ]
     },
     "execution_count": 14,
     "metadata": {},
     "output_type": "execute_result"
    }
   ],
   "source": [
    "#count() :: letter count in given string\n",
    "my_string.count(\"W\")"
   ]
  },
  {
   "cell_type": "code",
   "execution_count": 17,
   "id": "fc1693a3-6365-4d8a-91bd-01c340c3bd63",
   "metadata": {},
   "outputs": [
    {
     "name": "stdout",
     "output_type": "stream",
     "text": [
      "o, World\n",
      "o ol!Wl\n"
     ]
    }
   ],
   "source": [
    "#slicing of string in given range\n",
    "print(my_string[4:12])\n",
    "#slicing of string in given range according to given steps :: str[start:stop:step]\n",
    "print(my_string[4:18:2])"
   ]
  },
  {
   "cell_type": "code",
   "execution_count": 18,
   "id": "d90ff3c9-f599-46ae-ba1a-5b5b1b534966",
   "metadata": {},
   "outputs": [
    {
     "name": "stdout",
     "output_type": "stream",
     "text": [
      "  .gnimmargorP nohtyP ot emocleW !dlroW ,olleH\n"
     ]
    }
   ],
   "source": [
    "#reverse the string\n",
    "my_string1=str(my_string[::-1])\n",
    "print(my_string1)"
   ]
  },
  {
   "cell_type": "code",
   "execution_count": 22,
   "id": "5e3042df-8f1d-4329-820a-1f3a3d8acef9",
   "metadata": {},
   "outputs": [
    {
     "name": "stdout",
     "output_type": "stream",
     "text": [
      "True\n",
      "False\n",
      "False\n"
     ]
    }
   ],
   "source": [
    "#to check if string starts with given combination of character\n",
    "print(my_string.startswith(\"Hell\"))\n",
    "print(my_string.startswith(\"No\"))\n",
    "print(my_string.startswith(\"hell\"))\n",
    "#these are case sensitive"
   ]
  },
  {
   "cell_type": "code",
   "execution_count": 28,
   "id": "67982c9c-02a0-47e3-954a-61992b02ef21",
   "metadata": {},
   "outputs": [
    {
     "name": "stdout",
     "output_type": "stream",
     "text": [
      "True\n",
      "False\n"
     ]
    }
   ],
   "source": [
    "#to check if string ends with given combination of character\n",
    "print(my_string.endswith(\"ming.  \"))\n",
    "print(my_string.endswith(\"Ming\"))\n",
    "#case sensitive , symbol as well as space sensitive"
   ]
  },
  {
   "cell_type": "code",
   "execution_count": 59,
   "id": "cfa11d43-84a9-4749-a89d-ba8c0218d5b0",
   "metadata": {},
   "outputs": [
    {
     "name": "stdout",
     "output_type": "stream",
     "text": [
      "True\n"
     ]
    }
   ],
   "source": [
    "#To check if string contain given word or not\n",
    "contains_world = \"World\" in my_string  # True\n",
    "print(contains_world)"
   ]
  },
  {
   "cell_type": "code",
   "execution_count": 30,
   "id": "74638ec6-495a-4061-b383-ebfb946d2ba6",
   "metadata": {},
   "outputs": [
    {
     "data": {
      "text/plain": [
       "['Hello,', 'World!', 'Welcome', 'to', 'Python', 'Programming.']"
      ]
     },
     "execution_count": 30,
     "metadata": {},
     "output_type": "execute_result"
    }
   ],
   "source": [
    "#To split string in list of words :: it will store all the words in string in a list seperately \n",
    "my_string.split()       #by default here separator is space"
   ]
  },
  {
   "cell_type": "code",
   "execution_count": 32,
   "id": "4b6bf4ec-a66a-4685-a058-da565a311629",
   "metadata": {},
   "outputs": [
    {
     "name": "stdout",
     "output_type": "stream",
     "text": [
      "HELLO, WORLD! WELCOME TO PYTHON PROGRAMMING.  \n"
     ]
    }
   ],
   "source": [
    "#convert the whole string to the upper case\n",
    "my_string2=my_string.upper()\n",
    "print(my_string2)"
   ]
  },
  {
   "cell_type": "code",
   "execution_count": 35,
   "id": "ee7bd5a6-0d4a-4787-9f44-2bb06f4ae517",
   "metadata": {},
   "outputs": [
    {
     "name": "stdout",
     "output_type": "stream",
     "text": [
      "hello, world! welcome to python programming.  \n"
     ]
    }
   ],
   "source": [
    "#convert the whole string to the lower case\n",
    "my_string3=my_string.lower()\n",
    "print(my_string3)"
   ]
  },
  {
   "cell_type": "code",
   "execution_count": 36,
   "id": "0f7e94b6-ec89-4e8a-82ad-d3d225e72c5b",
   "metadata": {},
   "outputs": [
    {
     "name": "stdout",
     "output_type": "stream",
     "text": [
      "Hello, world! welcome to python programming.  \n"
     ]
    }
   ],
   "source": [
    "#convert the first letter of string to the upper case\n",
    "my_string4=my_string.capitalize()\n",
    "print(my_string4)"
   ]
  },
  {
   "cell_type": "code",
   "execution_count": 71,
   "id": "90e6e394-05cf-4ba2-809f-7f7644c3fdf8",
   "metadata": {},
   "outputs": [
    {
     "name": "stdout",
     "output_type": "stream",
     "text": [
      "Hello, World! Welcome To Python Programming.  \n"
     ]
    }
   ],
   "source": [
    "#convert the first letter of each word of string to the upper case\n",
    "my_string5=my_string.title()\n",
    "print(my_string5)"
   ]
  },
  {
   "cell_type": "code",
   "execution_count": 72,
   "id": "653cb4bd-8621-4cc0-97e0-2dadbe17a199",
   "metadata": {},
   "outputs": [
    {
     "name": "stdout",
     "output_type": "stream",
     "text": [
      "hello, world! welcome to python programming.  \n"
     ]
    }
   ],
   "source": [
    "#convert the all letter of each word of string to the lower case\n",
    "my_string6=my_string.casefold()\n",
    "print(my_string6)"
   ]
  },
  {
   "cell_type": "code",
   "execution_count": 37,
   "id": "25d45b8b-2aca-4ba0-87a6-8e84b46cc34c",
   "metadata": {},
   "outputs": [
    {
     "name": "stdout",
     "output_type": "stream",
     "text": [
      "46\n"
     ]
    }
   ],
   "source": [
    "# To find the length of string\n",
    "print(len(my_string))"
   ]
  },
  {
   "cell_type": "code",
   "execution_count": 47,
   "id": "cf3766da-433f-40a2-84fb-c40473e8e427",
   "metadata": {},
   "outputs": [
    {
     "name": "stdout",
     "output_type": "stream",
     "text": [
      "l\n",
      " \n"
     ]
    }
   ],
   "source": [
    "# Accessing Characters\n",
    "first_character = my_string[2]  # 'H'\n",
    "last_character = my_string[-1]  # ' '\n",
    "print(first_character)\n",
    "print(last_character)"
   ]
  },
  {
   "cell_type": "code",
   "execution_count": 73,
   "id": "a51ea9d0-d9cf-4627-9885-aaddd1992254",
   "metadata": {},
   "outputs": [
    {
     "name": "stdout",
     "output_type": "stream",
     "text": [
      "Hello, World! Welcome to Python Programming.\n"
     ]
    }
   ],
   "source": [
    "# strip()   :: Stripping Whitespace from initial and end\n",
    "stripped = my_string.strip()  # 'Hello, World! Welcome to Python Programming.'\n",
    "print(stripped)"
   ]
  },
  {
   "cell_type": "code",
   "execution_count": 75,
   "id": "a72e1876-f03d-42e9-b892-4d50b8608435",
   "metadata": {},
   "outputs": [
    {
     "name": "stdout",
     "output_type": "stream",
     "text": [
      "Hello, World! Welcome to Python Programming.  \n"
     ]
    }
   ],
   "source": [
    "# lstrip()   :: Stripping Whitespace from left\n",
    "l_stripped = my_string.lstrip()  # 'Hello, World! Welcome to Python Programming.'\n",
    "print(l_stripped)"
   ]
  },
  {
   "cell_type": "code",
   "execution_count": 76,
   "id": "230726df-dc0a-41f5-9db0-93320d365026",
   "metadata": {},
   "outputs": [
    {
     "name": "stdout",
     "output_type": "stream",
     "text": [
      "Hello, World! Welcome to Python Programming.\n"
     ]
    }
   ],
   "source": [
    "# rstrip()   :: Stripping Whitespace from right end\n",
    "r_stripped = my_string.rstrip()  # 'Hello, World! Welcome to Python Programming.'\n",
    "print(r_stripped)"
   ]
  },
  {
   "cell_type": "code",
   "execution_count": 80,
   "id": "0fdb7926-fb66-477a-a0f5-587f13416271",
   "metadata": {},
   "outputs": [
    {
     "name": "stdout",
     "output_type": "stream",
     "text": [
      "  Hello, World! Welcome to Python Programming.    \n"
     ]
    }
   ],
   "source": [
    "# center()   :: center the string using extra space\n",
    "centered_string = my_string.center(50)  # '  Hello, World! Welcome to Python Programming.    '\n",
    "print(centered_string)"
   ]
  },
  {
   "cell_type": "code",
   "execution_count": 83,
   "id": "fea66421-047b-427e-9805-2e99c4b07754",
   "metadata": {},
   "outputs": [
    {
     "name": "stdout",
     "output_type": "stream",
     "text": [
      "Hello, World! Welcome to Python Programming.  \n"
     ]
    }
   ],
   "source": [
    "# expandtabs(n)   :: increase the space tab between words\n",
    "expand_string = my_string.expandtabs(100)  \n",
    "print(expand_string)"
   ]
  },
  {
   "cell_type": "code",
   "execution_count": null,
   "id": "6a6c78b0-f308-4a38-a1d1-7fc8f74e881d",
   "metadata": {},
   "outputs": [],
   "source": [
    "# ljust(n,'delimiter')   :: increase the space tab between words\n",
    "adjusted_string = my_string.ljust(20)  \n",
    "print(adjusted_string)"
   ]
  },
  {
   "cell_type": "code",
   "execution_count": 54,
   "id": "1fc2d8f8-78da-4113-897a-0ec65fe9b386",
   "metadata": {},
   "outputs": [
    {
     "name": "stdout",
     "output_type": "stream",
     "text": [
      "Hello, Universe! Welcome to Python Programming.  \n"
     ]
    }
   ],
   "source": [
    "#replace('source','target')    ::  Replacing Substrings\n",
    "new_string = my_string.replace(\"World\", \"Universe\")  # '  Hello, Universe! Welcome to Python Programming.  '\n",
    "print(new_string)"
   ]
  },
  {
   "cell_type": "code",
   "execution_count": 56,
   "id": "d814d63e-5fb8-40b1-9498-b6aafd995172",
   "metadata": {},
   "outputs": [
    {
     "name": "stdout",
     "output_type": "stream",
     "text": [
      "['Hello', 'World! Welcome to Python Programming.  ']\n",
      "Hello - World! Welcome to Python Programming.  \n"
     ]
    }
   ],
   "source": [
    "# Splitting and Joining Strings\n",
    "words = my_string.split(\", \")  # ['  Hello', 'World! Welcome to Python Programming.  ']\n",
    "print(words)\n",
    "joined = \" - \".join(words)  # '  Hello - World! Welcome to Python Programming.  '\n",
    "print(joined)\n",
    "\n",
    "#here you can see that we have give dilimters as per our choice in both splitting and joining case"
   ]
  },
  {
   "cell_type": "code",
   "execution_count": 104,
   "id": "431f8183-d84b-4e23-a543-ae47ffbbc05b",
   "metadata": {},
   "outputs": [
    {
     "name": "stdout",
     "output_type": "stream",
     "text": [
      "['Hello,', 'World!', 'Welcome', 'to Python Programming.  ']\n"
     ]
    }
   ],
   "source": [
    "# split()  ::  Splitting with given no. of splits, it will split to n+1 words\n",
    "words = my_string.split(maxsplit=3)  \n",
    "print(words)"
   ]
  },
  {
   "cell_type": "code",
   "execution_count": 103,
   "id": "7c8373da-5d10-437c-a53d-4f3c2e331ad3",
   "metadata": {},
   "outputs": [
    {
     "name": "stdout",
     "output_type": "stream",
     "text": [
      "['Hello, World! Welcome', 'to', 'Python', 'Programming.']\n"
     ]
    }
   ],
   "source": [
    "# rsplit()  ::  Splitting with given no. of splits from back, it will split to n+1 words\n",
    "words = my_string.rsplit(maxsplit=3)  \n",
    "print(words)"
   ]
  },
  {
   "cell_type": "code",
   "execution_count": 109,
   "id": "1a7aecf4-7d4a-4761-acf8-4d12ba89d076",
   "metadata": {},
   "outputs": [
    {
     "name": "stdout",
     "output_type": "stream",
     "text": [
      "Hello\n",
      "World\n",
      "This is a test\n",
      "['Hello', 'World', 'This is a test']\n",
      "['Hello\\n', 'World\\n', 'This is a test']\n"
     ]
    }
   ],
   "source": [
    "#splitlines()  :: to split a string into a list of lines, breaking at line boundaries.\n",
    "my_new_string = \"Hello\\nWorld\\nThis is a test\"\n",
    "print(my_new_string)\n",
    "words1= my_new_string.splitlines()\n",
    "words = my_new_string.splitlines(keepends=True)\n",
    "print(words1)\n",
    "print(words)\n"
   ]
  },
  {
   "cell_type": "code",
   "execution_count": 48,
   "id": "b02190c2-644c-405d-a89b-bdfcb6994e11",
   "metadata": {},
   "outputs": [
    {
     "name": "stdout",
     "output_type": "stream",
     "text": [
      "Hello, World!\n"
     ]
    }
   ],
   "source": [
    "# String Concatenation\n",
    "greeting = \"Hello, \" + \"World!\"\n",
    "print(greeting)"
   ]
  },
  {
   "cell_type": "code",
   "execution_count": 50,
   "id": "b1fe3246-c65f-4f90-b1aa-ff8e70e3d91e",
   "metadata": {},
   "outputs": [
    {
     "name": "stdout",
     "output_type": "stream",
     "text": [
      "Hello! Hello! Hello! \n"
     ]
    }
   ],
   "source": [
    "#String Repetition\n",
    "repeated_string = \"Hello! \" * 3  # 'Hello! Hello! Hello! '\n",
    "print(repeated_string)"
   ]
  },
  {
   "cell_type": "code",
   "execution_count": 60,
   "id": "ba111115-7899-4f0c-839e-f7be51210a73",
   "metadata": {},
   "outputs": [
    {
     "name": "stdout",
     "output_type": "stream",
     "text": [
      "False\n"
     ]
    }
   ],
   "source": [
    "# 16. Checking for Digits or Alphabets\n",
    "contains_digits = my_string.isdigit()  # False\n",
    "print(contains_digits)"
   ]
  },
  {
   "cell_type": "code",
   "execution_count": 61,
   "id": "19dd9c0b-a4dc-4c73-bf5f-651f2258380e",
   "metadata": {},
   "outputs": [
    {
     "name": "stdout",
     "output_type": "stream",
     "text": [
      "False\n"
     ]
    }
   ],
   "source": [
    "contains_alpha = my_string.isalpha()  # False\n",
    "print(contains_alpha)"
   ]
  },
  {
   "cell_type": "code",
   "execution_count": 62,
   "id": "2f9634bc-80e5-4a81-a85e-569cfa5ce7a9",
   "metadata": {},
   "outputs": [
    {
     "name": "stdout",
     "output_type": "stream",
     "text": [
      "False\n"
     ]
    }
   ],
   "source": [
    "contains_alphanumeric= my_string.isalnum()\n",
    "print(contains_alphanumeric)"
   ]
  },
  {
   "cell_type": "code",
   "execution_count": 63,
   "id": "c63b9cbb-5209-4e2f-9063-04faa31f19bb",
   "metadata": {},
   "outputs": [
    {
     "name": "stdout",
     "output_type": "stream",
     "text": [
      "False\n"
     ]
    }
   ],
   "source": [
    "contains_decimal = my_string.isdecimal()\n",
    "print(contains_decimal)"
   ]
  },
  {
   "cell_type": "code",
   "execution_count": 64,
   "id": "f1414b19-4133-4cdc-8e05-7fee6f746464",
   "metadata": {},
   "outputs": [
    {
     "name": "stdout",
     "output_type": "stream",
     "text": [
      "False\n"
     ]
    }
   ],
   "source": [
    "contains_number = my_string.isnumeric()\n",
    "print(contains_number)"
   ]
  },
  {
   "cell_type": "code",
   "execution_count": 66,
   "id": "8b34a092-3489-4029-bcf2-968a709aff00",
   "metadata": {},
   "outputs": [
    {
     "name": "stdout",
     "output_type": "stream",
     "text": [
      "True\n"
     ]
    }
   ],
   "source": [
    "contains_ascii = my_string.isascii()\n",
    "print(contains_ascii)"
   ]
  },
  {
   "cell_type": "code",
   "execution_count": 67,
   "id": "df1414bd-3cf1-48f2-8d92-78e233bb986e",
   "metadata": {},
   "outputs": [
    {
     "name": "stdout",
     "output_type": "stream",
     "text": [
      "False\n"
     ]
    }
   ],
   "source": [
    "contains_identifier = my_string.isidentifier()\n",
    "print(contains_identifier)"
   ]
  },
  {
   "cell_type": "code",
   "execution_count": 68,
   "id": "ad6cd20f-ad6d-47f1-bebb-ed77e77b8cdd",
   "metadata": {},
   "outputs": [
    {
     "name": "stdout",
     "output_type": "stream",
     "text": [
      "False\n"
     ]
    }
   ],
   "source": [
    "contains_upper = my_string.isupper()\n",
    "print(contains_upper)"
   ]
  },
  {
   "cell_type": "code",
   "execution_count": 69,
   "id": "32c4bde3-01e7-42b7-85ff-36380ef0e2c3",
   "metadata": {},
   "outputs": [
    {
     "name": "stdout",
     "output_type": "stream",
     "text": [
      "False\n"
     ]
    }
   ],
   "source": [
    "contains_lower = my_string.islower()\n",
    "print(contains_lower)"
   ]
  },
  {
   "cell_type": "code",
   "execution_count": 70,
   "id": "aa4611f4-ade6-46cd-99d2-613bac465721",
   "metadata": {},
   "outputs": [
    {
     "name": "stdout",
     "output_type": "stream",
     "text": [
      "False\n"
     ]
    }
   ],
   "source": [
    "contains_title = my_string.istitle()\n",
    "print(contains_title)"
   ]
  },
  {
   "cell_type": "code",
   "execution_count": 89,
   "id": "a81114e8-4311-4ee5-95d1-aa34798fe2e2",
   "metadata": {},
   "outputs": [
    {
     "name": "stdout",
     "output_type": "stream",
     "text": [
      "('Hello', ',', ' World! Welcome to Python Programming.  ')\n"
     ]
    }
   ],
   "source": [
    "#partitioning of string\n",
    "my_string7=my_string.partition(',')\n",
    "print(my_string7)"
   ]
  },
  {
   "cell_type": "code",
   "execution_count": 98,
   "id": "daf24bc8-503f-4b8b-886a-a842ef50c2c1",
   "metadata": {},
   "outputs": [
    {
     "name": "stdout",
     "output_type": "stream",
     "text": [
      "('Hello', ',', ' World! Welcome to Python Programming.  ')\n"
     ]
    }
   ],
   "source": [
    "#partitioning of string from back\n",
    "my_string7=my_string.rpartition(',')\n",
    "print(my_string7)"
   ]
  },
  {
   "cell_type": "code",
   "execution_count": 93,
   "id": "25e6287a-2833-44a7-ae53-e4dce8139190",
   "metadata": {},
   "outputs": [
    {
     "name": "stdout",
     "output_type": "stream",
     "text": [
      "Hello, World! Welcome to Python Program\n"
     ]
    }
   ],
   "source": [
    "#removing suffix from string\n",
    "my_string8=my_string.removesuffix('ming.  ')\n",
    "print(my_string8)"
   ]
  },
  {
   "cell_type": "code",
   "execution_count": 95,
   "id": "4bd0b4a8-0315-447d-8fe0-317cf93570d3",
   "metadata": {},
   "outputs": [
    {
     "name": "stdout",
     "output_type": "stream",
     "text": [
      "o, World! Welcome to Python Programming.  \n"
     ]
    }
   ],
   "source": [
    "#removing prefix from string\n",
    "my_string9=my_string.removeprefix('Hell')\n",
    "print(my_string9)"
   ]
  },
  {
   "cell_type": "code",
   "execution_count": 111,
   "id": "572d576c-f4b9-4fed-b197-6276d80d2489",
   "metadata": {},
   "outputs": [
    {
     "name": "stdout",
     "output_type": "stream",
     "text": [
      "hELLO, wORLD! wELCOME TO pYTHON pROGRAMMING.  \n"
     ]
    }
   ],
   "source": [
    "#swapcase() :: changing the case of string element to opposite case\n",
    "my_string10=my_string.swapcase()\n",
    "print(my_string10)"
   ]
  },
  {
   "cell_type": "code",
   "execution_count": 113,
   "id": "6e6bd180-0efc-4001-a470-115e24ccbb8a",
   "metadata": {},
   "outputs": [
    {
     "name": "stdout",
     "output_type": "stream",
     "text": [
      "0000000099\n"
     ]
    }
   ],
   "source": [
    "#zfill(n) :: zerofill\n",
    "x=\"99\"\n",
    "my_string11=x.zfill(10)\n",
    "print(my_string11)"
   ]
  },
  {
   "cell_type": "code",
   "execution_count": 38,
   "id": "7e7340b2-9124-4199-a5ee-334f13636cbc",
   "metadata": {},
   "outputs": [
    {
     "name": "stdout",
     "output_type": "stream",
     "text": [
      "Regular String: C:\\new_folder\\file.txt\n",
      "Raw String: C:\\new_folder\\file.txt\n"
     ]
    }
   ],
   "source": [
    "#Raw string \n",
    "'''\n",
    "Raw strings in Python are prefixed with an r or R. \n",
    "They are used to treat backslashes (\\) as literal characters, which is particularly useful when dealing with regular expressions, \n",
    "file paths, or any scenario where backslashes are common.\n",
    "'''\n",
    "# Regular string\n",
    "regular_string = \"C:\\\\new_folder\\\\file.txt\"\n",
    "print(\"Regular String:\", regular_string)  # Output: C:\\new_folder\\file.txt\n",
    "\n",
    "# Raw string\n",
    "raw_string = r\"C:\\new_folder\\file.txt\"\n",
    "print(\"Raw String:\", raw_string)  # Output: C:\\new_folder\\file.txt"
   ]
  },
  {
   "cell_type": "code",
   "execution_count": 39,
   "id": "d2bcef65-f1e0-4b41-afae-e275d09e8e12",
   "metadata": {},
   "outputs": [
    {
     "name": "stdout",
     "output_type": "stream",
     "text": [
      "F-string: My name is Alice and I am 30 years old.\n",
      "str.format(): My name is Alice and I am 30 years old.\n",
      "Ordered str.format(): My name is Alice and I am 30 years old.\n",
      "Named str.format(): My name is Alice and I am 30 years old.\n",
      "Percent (%): My name is Alice and I am 30 years old.\n"
     ]
    }
   ],
   "source": [
    "#formatted string\n",
    "'''\n",
    "Formatted strings allow you to embed expressions inside string literals using curly braces {}. \n",
    "There are three main ways to format strings in Python: \n",
    "1. using f-strings (formatted string literals), \n",
    "2.the str.format() method, and \n",
    "3.the % operator\n",
    "'''\n",
    "#using F-strings     ::   f\"xyz {val}\"\n",
    "name = \"Alice\"\n",
    "age = 30\n",
    "formatted_string_f = f\"My name is {name} and I am {age} years old.\"\n",
    "print(\"F-string:\", formatted_string_f)\n",
    "\n",
    "#using str.format() method \n",
    "formatted_string_format = \"My name is {} and I am {} years old.\".format(name, age)\n",
    "print(\"str.format():\", formatted_string_format)\n",
    "\n",
    "formatted_string_ordered = \"My name is {0} and I am {1} years old.\".format(name, age)\n",
    "formatted_string_named = \"My name is {name} and I am {age} years old.\".format(name=name, age=age)\n",
    "print(\"Ordered str.format():\", formatted_string_ordered)\n",
    "print(\"Named str.format():\", formatted_string_named)\n",
    "\n",
    "#using percent formatting as we use in c\n",
    "formatted_string_percent = \"My name is %s and I am %d years old.\" % (name, age)\n",
    "print(\"Percent (%):\", formatted_string_percent)\n"
   ]
  },
  {
   "cell_type": "code",
   "execution_count": 88,
   "id": "ed39ecfa-12ad-4bba-b393-f39a0eb6d1e3",
   "metadata": {},
   "outputs": [
    {
     "name": "stdout",
     "output_type": "stream",
     "text": [
      "{112: 128522}\n",
      "Hi I am Ha😊😊y\n"
     ]
    }
   ],
   "source": [
    "#make translation in string\n",
    "text=\"Hi I am Happy\"\n",
    "table=text.maketrans('p','😊')\n",
    "print(table)\n",
    "print(text.translate(table))"
   ]
  }
 ],
 "metadata": {
  "kernelspec": {
   "display_name": "Python 3 (ipykernel)",
   "language": "python",
   "name": "python3"
  },
  "language_info": {
   "codemirror_mode": {
    "name": "ipython",
    "version": 3
   },
   "file_extension": ".py",
   "mimetype": "text/x-python",
   "name": "python",
   "nbconvert_exporter": "python",
   "pygments_lexer": "ipython3",
   "version": "3.11.5"
  }
 },
 "nbformat": 4,
 "nbformat_minor": 5
}
