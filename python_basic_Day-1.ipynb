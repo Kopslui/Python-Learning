{
 "cells": [
  {
   "cell_type": "code",
   "execution_count": 86,
   "id": "2ddeeb76",
   "metadata": {},
   "outputs": [
    {
     "data": {
      "text/plain": [
       "['False',\n",
       " 'None',\n",
       " 'True',\n",
       " 'and',\n",
       " 'as',\n",
       " 'assert',\n",
       " 'async',\n",
       " 'await',\n",
       " 'break',\n",
       " 'class',\n",
       " 'continue',\n",
       " 'def',\n",
       " 'del',\n",
       " 'elif',\n",
       " 'else',\n",
       " 'except',\n",
       " 'finally',\n",
       " 'for',\n",
       " 'from',\n",
       " 'global',\n",
       " 'if',\n",
       " 'import',\n",
       " 'in',\n",
       " 'is',\n",
       " 'lambda',\n",
       " 'nonlocal',\n",
       " 'not',\n",
       " 'or',\n",
       " 'pass',\n",
       " 'raise',\n",
       " 'return',\n",
       " 'try',\n",
       " 'while',\n",
       " 'with',\n",
       " 'yield']"
      ]
     },
     "execution_count": 86,
     "metadata": {},
     "output_type": "execute_result"
    }
   ],
   "source": [
    "#total keyword in pythom is 35, out of them only 3 starts with capital letter (True, False, None)\n",
    "import keyword as k\n",
    "k.kwlist"
   ]
  },
  {
   "cell_type": "code",
   "execution_count": 4,
   "id": "c481b8d0",
   "metadata": {},
   "outputs": [
    {
     "name": "stdout",
     "output_type": "stream",
     "text": [
      "35\n"
     ]
    }
   ],
   "source": [
    "print(len(k.kwlist))"
   ]
  },
  {
   "cell_type": "code",
   "execution_count": null,
   "id": "1f220668",
   "metadata": {},
   "outputs": [],
   "source": [
    "#Mainly there is 5 datatypes in python : int, float, str, complex, bool"
   ]
  },
  {
   "cell_type": "code",
   "execution_count": 6,
   "id": "592cf4de",
   "metadata": {},
   "outputs": [
    {
     "data": {
      "text/plain": [
       "int"
      ]
     },
     "execution_count": 6,
     "metadata": {},
     "output_type": "execute_result"
    }
   ],
   "source": [
    "a=5\n",
    "type(a)"
   ]
  },
  {
   "cell_type": "code",
   "execution_count": 7,
   "id": "acda1807",
   "metadata": {},
   "outputs": [
    {
     "data": {
      "text/plain": [
       "float"
      ]
     },
     "execution_count": 7,
     "metadata": {},
     "output_type": "execute_result"
    }
   ],
   "source": [
    "a=5.6\n",
    "type(a)"
   ]
  },
  {
   "cell_type": "code",
   "execution_count": 8,
   "id": "d4a7e606",
   "metadata": {},
   "outputs": [
    {
     "data": {
      "text/plain": [
       "str"
      ]
     },
     "execution_count": 8,
     "metadata": {},
     "output_type": "execute_result"
    }
   ],
   "source": [
    "a='5'\n",
    "type(a)"
   ]
  },
  {
   "cell_type": "code",
   "execution_count": 9,
   "id": "1ad16aa4",
   "metadata": {},
   "outputs": [
    {
     "data": {
      "text/plain": [
       "str"
      ]
     },
     "execution_count": 9,
     "metadata": {},
     "output_type": "execute_result"
    }
   ],
   "source": [
    "a=\"5\"\n",
    "type(a)"
   ]
  },
  {
   "cell_type": "code",
   "execution_count": 10,
   "id": "5d4d9f3a",
   "metadata": {},
   "outputs": [
    {
     "data": {
      "text/plain": [
       "complex"
      ]
     },
     "execution_count": 10,
     "metadata": {},
     "output_type": "execute_result"
    }
   ],
   "source": [
    "a=4+5j\n",
    "type(a)"
   ]
  },
  {
   "cell_type": "code",
   "execution_count": 11,
   "id": "014be848",
   "metadata": {},
   "outputs": [
    {
     "data": {
      "text/plain": [
       "4.0"
      ]
     },
     "execution_count": 11,
     "metadata": {},
     "output_type": "execute_result"
    }
   ],
   "source": [
    "a.real"
   ]
  },
  {
   "cell_type": "code",
   "execution_count": 12,
   "id": "646aabe1",
   "metadata": {},
   "outputs": [
    {
     "data": {
      "text/plain": [
       "5.0"
      ]
     },
     "execution_count": 12,
     "metadata": {},
     "output_type": "execute_result"
    }
   ],
   "source": [
    "a.imag"
   ]
  },
  {
   "cell_type": "code",
   "execution_count": 13,
   "id": "08329316",
   "metadata": {},
   "outputs": [
    {
     "data": {
      "text/plain": [
       "2059656410224"
      ]
     },
     "execution_count": 13,
     "metadata": {},
     "output_type": "execute_result"
    }
   ],
   "source": [
    "#return the address of a\n",
    "id(a)"
   ]
  },
  {
   "cell_type": "code",
   "execution_count": 89,
   "id": "d17a7be9",
   "metadata": {},
   "outputs": [],
   "source": [
    "id=5"
   ]
  },
  {
   "cell_type": "code",
   "execution_count": 90,
   "id": "11b3d606",
   "metadata": {},
   "outputs": [],
   "source": [
    "#if created any variable of no use, to delete that\n",
    "del id"
   ]
  },
  {
   "cell_type": "code",
   "execution_count": 29,
   "id": "705896d7",
   "metadata": {},
   "outputs": [
    {
     "data": {
      "text/plain": [
       "2059546132880"
      ]
     },
     "execution_count": 29,
     "metadata": {},
     "output_type": "execute_result"
    }
   ],
   "source": [
    "b=6\n",
    "id(b)"
   ]
  },
  {
   "cell_type": "code",
   "execution_count": 91,
   "id": "5b108034",
   "metadata": {},
   "outputs": [
    {
     "data": {
      "text/plain": [
       "2059546132848"
      ]
     },
     "execution_count": 91,
     "metadata": {},
     "output_type": "execute_result"
    }
   ],
   "source": [
    "a,b=5,5\n",
    "id(a)\n"
   ]
  },
  {
   "cell_type": "code",
   "execution_count": 92,
   "id": "39f02428",
   "metadata": {},
   "outputs": [
    {
     "data": {
      "text/plain": [
       "2059546132848"
      ]
     },
     "execution_count": 92,
     "metadata": {},
     "output_type": "execute_result"
    }
   ],
   "source": [
    "id(b)"
   ]
  },
  {
   "cell_type": "code",
   "execution_count": null,
   "id": "17ebd73b",
   "metadata": {},
   "outputs": [],
   "source": [
    "# datatype conversion"
   ]
  },
  {
   "cell_type": "code",
   "execution_count": 22,
   "id": "072ec5bf",
   "metadata": {},
   "outputs": [
    {
     "data": {
      "text/plain": [
       "3"
      ]
     },
     "execution_count": 22,
     "metadata": {},
     "output_type": "execute_result"
    }
   ],
   "source": [
    "#float to int\n",
    "int(3.6)"
   ]
  },
  {
   "cell_type": "code",
   "execution_count": 23,
   "id": "8dca97cb",
   "metadata": {},
   "outputs": [
    {
     "data": {
      "text/plain": [
       "1"
      ]
     },
     "execution_count": 23,
     "metadata": {},
     "output_type": "execute_result"
    }
   ],
   "source": [
    "#bool to int\n",
    "int(True)"
   ]
  },
  {
   "cell_type": "code",
   "execution_count": 24,
   "id": "3508452a",
   "metadata": {},
   "outputs": [
    {
     "ename": "TypeError",
     "evalue": "int() argument must be a string, a bytes-like object or a real number, not 'complex'",
     "output_type": "error",
     "traceback": [
      "\u001b[1;31m---------------------------------------------------------------------------\u001b[0m",
      "\u001b[1;31mTypeError\u001b[0m                                 Traceback (most recent call last)",
      "Cell \u001b[1;32mIn[24], line 1\u001b[0m\n\u001b[1;32m----> 1\u001b[0m \u001b[38;5;28;43mint\u001b[39;49m\u001b[43m(\u001b[49m\u001b[38;5;241;43m2\u001b[39;49m\u001b[38;5;241;43m+\u001b[39;49m\u001b[38;5;241;43m4\u001b[39;49m\u001b[43mj\u001b[49m\u001b[43m)\u001b[49m\n",
      "\u001b[1;31mTypeError\u001b[0m: int() argument must be a string, a bytes-like object or a real number, not 'complex'"
     ]
    }
   ],
   "source": [
    "#complex to int ---> not possible\n",
    "int(2+4j)"
   ]
  },
  {
   "cell_type": "code",
   "execution_count": 25,
   "id": "79a7b567",
   "metadata": {},
   "outputs": [
    {
     "data": {
      "text/plain": [
       "45"
      ]
     },
     "execution_count": 25,
     "metadata": {},
     "output_type": "execute_result"
    }
   ],
   "source": [
    "#int to int\n",
    "int(45)"
   ]
  },
  {
   "cell_type": "code",
   "execution_count": 26,
   "id": "1cedeadf",
   "metadata": {},
   "outputs": [
    {
     "data": {
      "text/plain": [
       "45.0"
      ]
     },
     "execution_count": 26,
     "metadata": {},
     "output_type": "execute_result"
    }
   ],
   "source": [
    "#int to float\n",
    "float(45)"
   ]
  },
  {
   "cell_type": "code",
   "execution_count": 27,
   "id": "ce870040",
   "metadata": {},
   "outputs": [
    {
     "data": {
      "text/plain": [
       "0.0"
      ]
     },
     "execution_count": 27,
     "metadata": {},
     "output_type": "execute_result"
    }
   ],
   "source": [
    "#bool to float\n",
    "float(False)"
   ]
  },
  {
   "cell_type": "code",
   "execution_count": 93,
   "id": "6c8c8bf8",
   "metadata": {},
   "outputs": [
    {
     "ename": "TypeError",
     "evalue": "float() argument must be a string or a real number, not 'complex'",
     "output_type": "error",
     "traceback": [
      "\u001b[1;31m---------------------------------------------------------------------------\u001b[0m",
      "\u001b[1;31mTypeError\u001b[0m                                 Traceback (most recent call last)",
      "Cell \u001b[1;32mIn[93], line 2\u001b[0m\n\u001b[0;32m      1\u001b[0m \u001b[38;5;66;03m#complex to float ---> not possible\u001b[39;00m\n\u001b[1;32m----> 2\u001b[0m \u001b[38;5;28;43mfloat\u001b[39;49m\u001b[43m(\u001b[49m\u001b[38;5;241;43m2\u001b[39;49m\u001b[38;5;241;43m+\u001b[39;49m\u001b[38;5;241;43m4\u001b[39;49m\u001b[43mj\u001b[49m\u001b[43m)\u001b[49m\n",
      "\u001b[1;31mTypeError\u001b[0m: float() argument must be a string or a real number, not 'complex'"
     ]
    }
   ],
   "source": [
    "#complex to float ---> not possible\n",
    "float(2+4j)"
   ]
  },
  {
   "cell_type": "code",
   "execution_count": 31,
   "id": "2494d7ef",
   "metadata": {},
   "outputs": [
    {
     "data": {
      "text/plain": [
       "'5'"
      ]
     },
     "execution_count": 31,
     "metadata": {},
     "output_type": "execute_result"
    }
   ],
   "source": [
    "#int to string\n",
    "str(5)"
   ]
  },
  {
   "cell_type": "code",
   "execution_count": 32,
   "id": "4dab2729",
   "metadata": {},
   "outputs": [
    {
     "data": {
      "text/plain": [
       "'47.56'"
      ]
     },
     "execution_count": 32,
     "metadata": {},
     "output_type": "execute_result"
    }
   ],
   "source": [
    "#float to string\n",
    "str(47.56)"
   ]
  },
  {
   "cell_type": "code",
   "execution_count": 33,
   "id": "47302d4c",
   "metadata": {},
   "outputs": [
    {
     "data": {
      "text/plain": [
       "'True'"
      ]
     },
     "execution_count": 33,
     "metadata": {},
     "output_type": "execute_result"
    }
   ],
   "source": [
    "#bool to string\n",
    "str(True)"
   ]
  },
  {
   "cell_type": "code",
   "execution_count": 34,
   "id": "0e4d20fc",
   "metadata": {},
   "outputs": [
    {
     "data": {
      "text/plain": [
       "'(3+5j)'"
      ]
     },
     "execution_count": 34,
     "metadata": {},
     "output_type": "execute_result"
    }
   ],
   "source": [
    "#Complex to string\n",
    "str(3+5j)"
   ]
  },
  {
   "cell_type": "code",
   "execution_count": 35,
   "id": "ce6909a6",
   "metadata": {},
   "outputs": [
    {
     "data": {
      "text/plain": [
       "True"
      ]
     },
     "execution_count": 35,
     "metadata": {},
     "output_type": "execute_result"
    }
   ],
   "source": [
    "#int to bool\n",
    "bool(6)"
   ]
  },
  {
   "cell_type": "code",
   "execution_count": 36,
   "id": "b3931ff7",
   "metadata": {},
   "outputs": [
    {
     "data": {
      "text/plain": [
       "True"
      ]
     },
     "execution_count": 36,
     "metadata": {},
     "output_type": "execute_result"
    }
   ],
   "source": [
    "#float to bool\n",
    "bool(5.7)"
   ]
  },
  {
   "cell_type": "code",
   "execution_count": 37,
   "id": "43af4991",
   "metadata": {},
   "outputs": [
    {
     "data": {
      "text/plain": [
       "True"
      ]
     },
     "execution_count": 37,
     "metadata": {},
     "output_type": "execute_result"
    }
   ],
   "source": [
    "#bool to bool\n",
    "bool(True)"
   ]
  },
  {
   "cell_type": "code",
   "execution_count": 38,
   "id": "91336954",
   "metadata": {},
   "outputs": [
    {
     "data": {
      "text/plain": [
       "False"
      ]
     },
     "execution_count": 38,
     "metadata": {},
     "output_type": "execute_result"
    }
   ],
   "source": [
    "bool(False)"
   ]
  },
  {
   "cell_type": "code",
   "execution_count": 39,
   "id": "c22e01b0",
   "metadata": {},
   "outputs": [
    {
     "data": {
      "text/plain": [
       "False"
      ]
     },
     "execution_count": 39,
     "metadata": {},
     "output_type": "execute_result"
    }
   ],
   "source": [
    "#int to bool\n",
    "bool(0)"
   ]
  },
  {
   "cell_type": "code",
   "execution_count": 40,
   "id": "4a8fbb44",
   "metadata": {},
   "outputs": [
    {
     "data": {
      "text/plain": [
       "True"
      ]
     },
     "execution_count": 40,
     "metadata": {},
     "output_type": "execute_result"
    }
   ],
   "source": [
    "#complex to bool\n",
    "bool(4+6j)"
   ]
  },
  {
   "cell_type": "code",
   "execution_count": 41,
   "id": "079b7cfe",
   "metadata": {},
   "outputs": [
    {
     "data": {
      "text/plain": [
       "(3+0j)"
      ]
     },
     "execution_count": 41,
     "metadata": {},
     "output_type": "execute_result"
    }
   ],
   "source": [
    "#int to complex\n",
    "complex(3)"
   ]
  },
  {
   "cell_type": "code",
   "execution_count": 42,
   "id": "be00584f",
   "metadata": {},
   "outputs": [
    {
     "data": {
      "text/plain": [
       "(3+5j)"
      ]
     },
     "execution_count": 42,
     "metadata": {},
     "output_type": "execute_result"
    }
   ],
   "source": [
    "#int to complex\n",
    "complex(3,5)"
   ]
  },
  {
   "cell_type": "code",
   "execution_count": 43,
   "id": "1dfebad9",
   "metadata": {},
   "outputs": [
    {
     "data": {
      "text/plain": [
       "(3.5+0j)"
      ]
     },
     "execution_count": 43,
     "metadata": {},
     "output_type": "execute_result"
    }
   ],
   "source": [
    "#float to complex\n",
    "complex(3.5)"
   ]
  },
  {
   "cell_type": "code",
   "execution_count": 44,
   "id": "8b88397f",
   "metadata": {},
   "outputs": [
    {
     "data": {
      "text/plain": [
       "'0b1100'"
      ]
     },
     "execution_count": 44,
     "metadata": {},
     "output_type": "execute_result"
    }
   ],
   "source": [
    "#binary conversion\n",
    "bin(12)"
   ]
  },
  {
   "cell_type": "code",
   "execution_count": 45,
   "id": "c3879b68",
   "metadata": {},
   "outputs": [
    {
     "data": {
      "text/plain": [
       "'0b10000'"
      ]
     },
     "execution_count": 45,
     "metadata": {},
     "output_type": "execute_result"
    }
   ],
   "source": [
    "bin(16)"
   ]
  },
  {
   "cell_type": "code",
   "execution_count": 46,
   "id": "90383df8",
   "metadata": {},
   "outputs": [
    {
     "data": {
      "text/plain": [
       "'0o42'"
      ]
     },
     "execution_count": 46,
     "metadata": {},
     "output_type": "execute_result"
    }
   ],
   "source": [
    "#decimal to octal conversion\n",
    "oct(34)"
   ]
  },
  {
   "cell_type": "code",
   "execution_count": 47,
   "id": "438e6494",
   "metadata": {},
   "outputs": [
    {
     "data": {
      "text/plain": [
       "'0x22'"
      ]
     },
     "execution_count": 47,
     "metadata": {},
     "output_type": "execute_result"
    }
   ],
   "source": [
    "#decimal to hexadecimal conversion\n",
    "hex(34)"
   ]
  },
  {
   "cell_type": "code",
   "execution_count": 48,
   "id": "0925972c",
   "metadata": {},
   "outputs": [
    {
     "data": {
      "text/plain": [
       "'0x4b'"
      ]
     },
     "execution_count": 48,
     "metadata": {},
     "output_type": "execute_result"
    }
   ],
   "source": [
    "hex(75)"
   ]
  },
  {
   "cell_type": "code",
   "execution_count": 49,
   "id": "26588b02",
   "metadata": {},
   "outputs": [
    {
     "data": {
      "text/plain": [
       "25"
      ]
     },
     "execution_count": 49,
     "metadata": {},
     "output_type": "execute_result"
    }
   ],
   "source": [
    "#int('x',y) :: conversion of x with respect to y \n",
    "int('11001',2)"
   ]
  },
  {
   "cell_type": "code",
   "execution_count": 50,
   "id": "bf393e8e",
   "metadata": {},
   "outputs": [
    {
     "data": {
      "text/plain": [
       "321"
      ]
     },
     "execution_count": 50,
     "metadata": {},
     "output_type": "execute_result"
    }
   ],
   "source": [
    "int('11001',4)"
   ]
  },
  {
   "cell_type": "code",
   "execution_count": 51,
   "id": "8668cf8a",
   "metadata": {},
   "outputs": [
    {
     "data": {
      "text/plain": [
       "34"
      ]
     },
     "execution_count": 51,
     "metadata": {},
     "output_type": "execute_result"
    }
   ],
   "source": [
    "int('0x22',16)"
   ]
  },
  {
   "cell_type": "code",
   "execution_count": 52,
   "id": "b2699a05",
   "metadata": {},
   "outputs": [
    {
     "data": {
      "text/plain": [
       "31"
      ]
     },
     "execution_count": 52,
     "metadata": {},
     "output_type": "execute_result"
    }
   ],
   "source": [
    "int('37',8)"
   ]
  },
  {
   "cell_type": "code",
   "execution_count": 53,
   "id": "ed70d8d1",
   "metadata": {},
   "outputs": [
    {
     "data": {
      "text/plain": [
       "76"
      ]
     },
     "execution_count": 53,
     "metadata": {},
     "output_type": "execute_result"
    }
   ],
   "source": [
    "int('4c',16)"
   ]
  },
  {
   "cell_type": "code",
   "execution_count": null,
   "id": "894081a2",
   "metadata": {},
   "outputs": [],
   "source": [
    "# OPERATORS\n",
    "#Arithmetic operator : {'+', '-', '*', '/', '%', '//', '**'}\n",
    "#Assignment operators: {=, +=, -=, *=, /=, //=, %=, **=}\n",
    "#Relational operators: {<, >, <=, >=, ==, !=}\n",
    "#logical operators: {and, or, not}\n",
    "#membership operators: {in, not in}\n",
    "#identity operators: {is, is not}\n"
   ]
  },
  {
   "cell_type": "code",
   "execution_count": 57,
   "id": "e7a05d35",
   "metadata": {},
   "outputs": [
    {
     "name": "stdout",
     "output_type": "stream",
     "text": [
      "19 + 5 = 24\n",
      "19 - 5 = 14\n",
      "19 * 5 = 95\n",
      "19 / 5 = 3.8\n",
      "19 % 5 = 4\n",
      "19 // 5 = 3\n",
      "19 ** 5 = 2476099\n"
     ]
    }
   ],
   "source": [
    "#Arithmetic operator\n",
    "a = 19\n",
    "b = 5\n",
    "operators = ['+', '-', '*', '/', '%', '//', '**']\n",
    "for operator in operators:\n",
    "    if operator == '+':\n",
    "        print(f\"{a} {operator} {b} = {a + b}\")\n",
    "    elif operator == '-':\n",
    "        print(f\"{a} {operator} {b} = {a - b}\")\n",
    "    elif operator == '*':\n",
    "        print(f\"{a} {operator} {b} = {a * b}\")\n",
    "    elif operator == '/':\n",
    "        print(f\"{a} {operator} {b} = {a / b}\")\n",
    "    elif operator == '%':\n",
    "        print(f\"{a} {operator} {b} = {a % b}\")\n",
    "    elif operator == '//':\n",
    "        print(f\"{a} {operator} {b} = {a // b}\")\n",
    "    elif operator == '**':\n",
    "        print(f\"{a} {operator} {b} = {a ** b}\")\n"
   ]
  },
  {
   "cell_type": "code",
   "execution_count": null,
   "id": "43e6772e",
   "metadata": {},
   "outputs": [],
   "source": [
    "#Assignment operators"
   ]
  },
  {
   "cell_type": "code",
   "execution_count": 59,
   "id": "3f5498a8",
   "metadata": {},
   "outputs": [
    {
     "data": {
      "text/plain": [
       "15"
      ]
     },
     "execution_count": 59,
     "metadata": {},
     "output_type": "execute_result"
    }
   ],
   "source": [
    "a=5\n",
    "a+=10\n",
    "a"
   ]
  },
  {
   "cell_type": "code",
   "execution_count": 60,
   "id": "c828337d",
   "metadata": {},
   "outputs": [
    {
     "data": {
      "text/plain": [
       "10"
      ]
     },
     "execution_count": 60,
     "metadata": {},
     "output_type": "execute_result"
    }
   ],
   "source": [
    "a-=5\n",
    "a"
   ]
  },
  {
   "cell_type": "code",
   "execution_count": 62,
   "id": "d5f3c1eb",
   "metadata": {},
   "outputs": [
    {
     "data": {
      "text/plain": [
       "40"
      ]
     },
     "execution_count": 62,
     "metadata": {},
     "output_type": "execute_result"
    }
   ],
   "source": [
    "a*=2\n",
    "a"
   ]
  },
  {
   "cell_type": "markdown",
   "id": "a1713afb",
   "metadata": {},
   "source": [
    "a%=5"
   ]
  },
  {
   "cell_type": "code",
   "execution_count": 64,
   "id": "8d1c8515",
   "metadata": {},
   "outputs": [
    {
     "data": {
      "text/plain": [
       "0"
      ]
     },
     "execution_count": 64,
     "metadata": {},
     "output_type": "execute_result"
    }
   ],
   "source": [
    "a%=5\n",
    "a"
   ]
  },
  {
   "cell_type": "code",
   "execution_count": 67,
   "id": "39e1ed9a",
   "metadata": {},
   "outputs": [
    {
     "data": {
      "text/plain": [
       "4"
      ]
     },
     "execution_count": 67,
     "metadata": {},
     "output_type": "execute_result"
    }
   ],
   "source": [
    "a=20\n",
    "a//=5\n",
    "a"
   ]
  },
  {
   "cell_type": "code",
   "execution_count": 68,
   "id": "d39db26a",
   "metadata": {},
   "outputs": [
    {
     "data": {
      "text/plain": [
       "125"
      ]
     },
     "execution_count": 68,
     "metadata": {},
     "output_type": "execute_result"
    }
   ],
   "source": [
    "a=5\n",
    "a**=3\n",
    "a"
   ]
  },
  {
   "cell_type": "code",
   "execution_count": null,
   "id": "07cffb2f",
   "metadata": {},
   "outputs": [],
   "source": [
    "#Relational operators:"
   ]
  },
  {
   "cell_type": "code",
   "execution_count": 71,
   "id": "b721ac3e",
   "metadata": {},
   "outputs": [
    {
     "data": {
      "text/plain": [
       "False"
      ]
     },
     "execution_count": 71,
     "metadata": {},
     "output_type": "execute_result"
    }
   ],
   "source": [
    "a,b=2,8\n",
    "a==b\n"
   ]
  },
  {
   "cell_type": "code",
   "execution_count": 72,
   "id": "30517220",
   "metadata": {},
   "outputs": [
    {
     "data": {
      "text/plain": [
       "True"
      ]
     },
     "execution_count": 72,
     "metadata": {},
     "output_type": "execute_result"
    }
   ],
   "source": [
    "a!=b\n"
   ]
  },
  {
   "cell_type": "code",
   "execution_count": 73,
   "id": "ca683713",
   "metadata": {},
   "outputs": [
    {
     "data": {
      "text/plain": [
       "True"
      ]
     },
     "execution_count": 73,
     "metadata": {},
     "output_type": "execute_result"
    }
   ],
   "source": [
    "a<b\n"
   ]
  },
  {
   "cell_type": "code",
   "execution_count": 74,
   "id": "3b736707",
   "metadata": {},
   "outputs": [
    {
     "data": {
      "text/plain": [
       "False"
      ]
     },
     "execution_count": 74,
     "metadata": {},
     "output_type": "execute_result"
    }
   ],
   "source": [
    "a>b"
   ]
  },
  {
   "cell_type": "code",
   "execution_count": null,
   "id": "ff4052f2",
   "metadata": {},
   "outputs": [],
   "source": [
    "#logical operators:"
   ]
  },
  {
   "cell_type": "code",
   "execution_count": 75,
   "id": "9e808944",
   "metadata": {},
   "outputs": [],
   "source": [
    "a,b,c=4,2,9"
   ]
  },
  {
   "cell_type": "code",
   "execution_count": 76,
   "id": "d694cbed",
   "metadata": {},
   "outputs": [
    {
     "data": {
      "text/plain": [
       "True"
      ]
     },
     "execution_count": 76,
     "metadata": {},
     "output_type": "execute_result"
    }
   ],
   "source": [
    "a>b and a<c"
   ]
  },
  {
   "cell_type": "code",
   "execution_count": 77,
   "id": "c844993c",
   "metadata": {},
   "outputs": [
    {
     "data": {
      "text/plain": [
       "False"
      ]
     },
     "execution_count": 77,
     "metadata": {},
     "output_type": "execute_result"
    }
   ],
   "source": [
    "a>b and a>c"
   ]
  },
  {
   "cell_type": "code",
   "execution_count": null,
   "id": "78a45988",
   "metadata": {},
   "outputs": [],
   "source": [
    "# AND operation (Truth Table)"
   ]
  },
  {
   "cell_type": "code",
   "execution_count": 78,
   "id": "7202eec4",
   "metadata": {},
   "outputs": [
    {
     "data": {
      "text/plain": [
       "True"
      ]
     },
     "execution_count": 78,
     "metadata": {},
     "output_type": "execute_result"
    }
   ],
   "source": [
    "True and True"
   ]
  },
  {
   "cell_type": "code",
   "execution_count": 79,
   "id": "575564e9",
   "metadata": {},
   "outputs": [
    {
     "data": {
      "text/plain": [
       "False"
      ]
     },
     "execution_count": 79,
     "metadata": {},
     "output_type": "execute_result"
    }
   ],
   "source": [
    "True and False"
   ]
  },
  {
   "cell_type": "code",
   "execution_count": 80,
   "id": "0c1867ed",
   "metadata": {},
   "outputs": [
    {
     "data": {
      "text/plain": [
       "False"
      ]
     },
     "execution_count": 80,
     "metadata": {},
     "output_type": "execute_result"
    }
   ],
   "source": [
    "False and True"
   ]
  },
  {
   "cell_type": "code",
   "execution_count": 81,
   "id": "9e99e63c",
   "metadata": {},
   "outputs": [
    {
     "data": {
      "text/plain": [
       "False"
      ]
     },
     "execution_count": 81,
     "metadata": {},
     "output_type": "execute_result"
    }
   ],
   "source": [
    "False and False"
   ]
  },
  {
   "cell_type": "code",
   "execution_count": null,
   "id": "5c54285b",
   "metadata": {},
   "outputs": [],
   "source": [
    "# OR operation (Truth Table)"
   ]
  },
  {
   "cell_type": "code",
   "execution_count": 82,
   "id": "f14e5715",
   "metadata": {},
   "outputs": [
    {
     "data": {
      "text/plain": [
       "True"
      ]
     },
     "execution_count": 82,
     "metadata": {},
     "output_type": "execute_result"
    }
   ],
   "source": [
    "True or True"
   ]
  },
  {
   "cell_type": "code",
   "execution_count": 83,
   "id": "2aa5ec98",
   "metadata": {},
   "outputs": [
    {
     "data": {
      "text/plain": [
       "False"
      ]
     },
     "execution_count": 83,
     "metadata": {},
     "output_type": "execute_result"
    }
   ],
   "source": [
    "False or False"
   ]
  },
  {
   "cell_type": "code",
   "execution_count": 84,
   "id": "52e0f1ed",
   "metadata": {},
   "outputs": [
    {
     "data": {
      "text/plain": [
       "True"
      ]
     },
     "execution_count": 84,
     "metadata": {},
     "output_type": "execute_result"
    }
   ],
   "source": [
    "True or False"
   ]
  },
  {
   "cell_type": "code",
   "execution_count": 85,
   "id": "a190139e",
   "metadata": {},
   "outputs": [
    {
     "data": {
      "text/plain": [
       "True"
      ]
     },
     "execution_count": 85,
     "metadata": {},
     "output_type": "execute_result"
    }
   ],
   "source": [
    "False or True"
   ]
  },
  {
   "cell_type": "code",
   "execution_count": null,
   "id": "6cb8ac8c",
   "metadata": {},
   "outputs": [],
   "source": [
    "# not operator"
   ]
  },
  {
   "cell_type": "code",
   "execution_count": 87,
   "id": "ee8cfbb8",
   "metadata": {},
   "outputs": [
    {
     "data": {
      "text/plain": [
       "False"
      ]
     },
     "execution_count": 87,
     "metadata": {},
     "output_type": "execute_result"
    }
   ],
   "source": [
    "not True"
   ]
  },
  {
   "cell_type": "code",
   "execution_count": 88,
   "id": "09942777",
   "metadata": {},
   "outputs": [
    {
     "data": {
      "text/plain": [
       "True"
      ]
     },
     "execution_count": 88,
     "metadata": {},
     "output_type": "execute_result"
    }
   ],
   "source": [
    "not False"
   ]
  },
  {
   "cell_type": "code",
   "execution_count": 94,
   "id": "d7b5ed99",
   "metadata": {},
   "outputs": [
    {
     "data": {
      "text/plain": [
       "4"
      ]
     },
     "execution_count": 94,
     "metadata": {},
     "output_type": "execute_result"
    }
   ],
   "source": [
    "# bitwise-and operation\n",
    "12 & 7"
   ]
  },
  {
   "cell_type": "code",
   "execution_count": 104,
   "id": "f0e49619",
   "metadata": {},
   "outputs": [
    {
     "data": {
      "text/plain": [
       "7"
      ]
     },
     "execution_count": 104,
     "metadata": {},
     "output_type": "execute_result"
    }
   ],
   "source": [
    "# logical-and operation\n",
    "12 and 7"
   ]
  },
  {
   "cell_type": "code",
   "execution_count": 96,
   "id": "fab35998",
   "metadata": {},
   "outputs": [
    {
     "data": {
      "text/plain": [
       "15"
      ]
     },
     "execution_count": 96,
     "metadata": {},
     "output_type": "execute_result"
    }
   ],
   "source": [
    "# bitwise-OR operation \n",
    "12 | 7"
   ]
  },
  {
   "cell_type": "code",
   "execution_count": 97,
   "id": "59afaaee",
   "metadata": {},
   "outputs": [
    {
     "data": {
      "text/plain": [
       "10"
      ]
     },
     "execution_count": 97,
     "metadata": {},
     "output_type": "execute_result"
    }
   ],
   "source": [
    "# bitwise-XOR operatiom\n",
    "12^6"
   ]
  },
  {
   "cell_type": "code",
   "execution_count": null,
   "id": "59fa4a9e",
   "metadata": {},
   "outputs": [],
   "source": [
    "# XOR operation (Truth Table)"
   ]
  },
  {
   "cell_type": "code",
   "execution_count": 100,
   "id": "e22cd134",
   "metadata": {},
   "outputs": [
    {
     "data": {
      "text/plain": [
       "False"
      ]
     },
     "execution_count": 100,
     "metadata": {},
     "output_type": "execute_result"
    }
   ],
   "source": [
    "True ^ True"
   ]
  },
  {
   "cell_type": "code",
   "execution_count": 98,
   "id": "7c53272b",
   "metadata": {},
   "outputs": [
    {
     "data": {
      "text/plain": [
       "True"
      ]
     },
     "execution_count": 98,
     "metadata": {},
     "output_type": "execute_result"
    }
   ],
   "source": [
    "True ^ False"
   ]
  },
  {
   "cell_type": "code",
   "execution_count": 99,
   "id": "0196d693",
   "metadata": {},
   "outputs": [
    {
     "data": {
      "text/plain": [
       "True"
      ]
     },
     "execution_count": 99,
     "metadata": {},
     "output_type": "execute_result"
    }
   ],
   "source": [
    "False ^ True"
   ]
  },
  {
   "cell_type": "code",
   "execution_count": 101,
   "id": "a4bdbee2",
   "metadata": {},
   "outputs": [
    {
     "data": {
      "text/plain": [
       "False"
      ]
     },
     "execution_count": 101,
     "metadata": {},
     "output_type": "execute_result"
    }
   ],
   "source": [
    "False ^ False"
   ]
  },
  {
   "cell_type": "code",
   "execution_count": null,
   "id": "ec9af6f1",
   "metadata": {},
   "outputs": [],
   "source": [
    "#membership operators:"
   ]
  },
  {
   "cell_type": "code",
   "execution_count": 108,
   "id": "e896a07f",
   "metadata": {},
   "outputs": [
    {
     "data": {
      "text/plain": [
       "True"
      ]
     },
     "execution_count": 108,
     "metadata": {},
     "output_type": "execute_result"
    }
   ],
   "source": [
    "a=\"vignanuniversity\"\n",
    "'vignan' in a"
   ]
  },
  {
   "cell_type": "code",
   "execution_count": 109,
   "id": "3b4af8da",
   "metadata": {},
   "outputs": [
    {
     "data": {
      "text/plain": [
       "True"
      ]
     },
     "execution_count": 109,
     "metadata": {},
     "output_type": "execute_result"
    }
   ],
   "source": [
    "'college' not in a"
   ]
  },
  {
   "cell_type": "code",
   "execution_count": 110,
   "id": "ac42a0ed",
   "metadata": {},
   "outputs": [
    {
     "data": {
      "text/plain": [
       "False"
      ]
     },
     "execution_count": 110,
     "metadata": {},
     "output_type": "execute_result"
    }
   ],
   "source": [
    "'vignan' not in a"
   ]
  },
  {
   "cell_type": "code",
   "execution_count": 111,
   "id": "71df52a3",
   "metadata": {},
   "outputs": [
    {
     "data": {
      "text/plain": [
       "False"
      ]
     },
     "execution_count": 111,
     "metadata": {},
     "output_type": "execute_result"
    }
   ],
   "source": [
    "'sem' in a"
   ]
  },
  {
   "cell_type": "code",
   "execution_count": 102,
   "id": "bfe2f05a",
   "metadata": {},
   "outputs": [
    {
     "data": {
      "text/plain": [
       "96"
      ]
     },
     "execution_count": 102,
     "metadata": {},
     "output_type": "execute_result"
    }
   ],
   "source": [
    "#left shift :: a<<b = a*(2**b)\n",
    "12 << 3"
   ]
  },
  {
   "cell_type": "code",
   "execution_count": 105,
   "id": "886cd270",
   "metadata": {},
   "outputs": [
    {
     "data": {
      "text/plain": [
       "3"
      ]
     },
     "execution_count": 105,
     "metadata": {},
     "output_type": "execute_result"
    }
   ],
   "source": [
    "#right shift :: a>>b = a//(2**b)\n",
    "24 >> 3"
   ]
  },
  {
   "cell_type": "code",
   "execution_count": 107,
   "id": "8b79513a",
   "metadata": {},
   "outputs": [
    {
     "name": "stdout",
     "output_type": "stream",
     "text": [
      "0b1000\n",
      "-9\n",
      "-0b1001\n"
     ]
    }
   ],
   "source": [
    "# complements :: ~x\n",
    "8\n",
    "print(bin(8))\n",
    "print(~8)\n",
    "print(bin(~8))"
   ]
  },
  {
   "cell_type": "code",
   "execution_count": null,
   "id": "e10a35e7",
   "metadata": {},
   "outputs": [],
   "source": [
    "#identity operators: {is, is not} ---> both the varible is pointing the same object or not\n",
    "#object in nothing but the memory space"
   ]
  },
  {
   "cell_type": "code",
   "execution_count": 112,
   "id": "d7bbac43",
   "metadata": {},
   "outputs": [
    {
     "data": {
      "text/plain": [
       "True"
      ]
     },
     "execution_count": 112,
     "metadata": {},
     "output_type": "execute_result"
    }
   ],
   "source": [
    "a,b=5,5\n",
    "a is b\n",
    "#here a, b pointing the same memory/object"
   ]
  },
  {
   "cell_type": "code",
   "execution_count": 114,
   "id": "b0373d5c",
   "metadata": {},
   "outputs": [
    {
     "data": {
      "text/plain": [
       "2059546132848"
      ]
     },
     "execution_count": 114,
     "metadata": {},
     "output_type": "execute_result"
    }
   ],
   "source": [
    "id(a)"
   ]
  },
  {
   "cell_type": "code",
   "execution_count": 113,
   "id": "fc658bf6",
   "metadata": {},
   "outputs": [
    {
     "data": {
      "text/plain": [
       "2059546132848"
      ]
     },
     "execution_count": 113,
     "metadata": {},
     "output_type": "execute_result"
    }
   ],
   "source": [
    "id(b)                                "
   ]
  },
  {
   "cell_type": "code",
   "execution_count": 115,
   "id": "28e228b1",
   "metadata": {},
   "outputs": [
    {
     "data": {
      "text/plain": [
       "False"
      ]
     },
     "execution_count": 115,
     "metadata": {},
     "output_type": "execute_result"
    }
   ],
   "source": [
    "l,m=[1,2],[1,2]\n",
    "l is m\n",
    "#here a, b pointing the differnt memory/object with same value"
   ]
  },
  {
   "cell_type": "code",
   "execution_count": 116,
   "id": "3d633043",
   "metadata": {},
   "outputs": [
    {
     "data": {
      "text/plain": [
       "2059657760448"
      ]
     },
     "execution_count": 116,
     "metadata": {},
     "output_type": "execute_result"
    }
   ],
   "source": [
    "id(l)"
   ]
  },
  {
   "cell_type": "code",
   "execution_count": 117,
   "id": "e2bcd7f9",
   "metadata": {},
   "outputs": [
    {
     "data": {
      "text/plain": [
       "2059658051648"
      ]
     },
     "execution_count": 117,
     "metadata": {},
     "output_type": "execute_result"
    }
   ],
   "source": [
    "id(m)"
   ]
  },
  {
   "cell_type": "code",
   "execution_count": 118,
   "id": "67970d04",
   "metadata": {},
   "outputs": [
    {
     "data": {
      "text/plain": [
       "True"
      ]
     },
     "execution_count": 118,
     "metadata": {},
     "output_type": "execute_result"
    }
   ],
   "source": [
    "l is not m"
   ]
  },
  {
   "cell_type": "code",
   "execution_count": null,
   "id": "f17a24a8",
   "metadata": {},
   "outputs": [],
   "source": [
    "#conditional statements: {if, elif, else}"
   ]
  },
  {
   "cell_type": "code",
   "execution_count": 120,
   "id": "9f1fc086",
   "metadata": {},
   "outputs": [],
   "source": [
    "a,b=4,9"
   ]
  },
  {
   "cell_type": "code",
   "execution_count": 121,
   "id": "57aa9cbe",
   "metadata": {},
   "outputs": [
    {
     "data": {
      "text/plain": [
       "4"
      ]
     },
     "execution_count": 121,
     "metadata": {},
     "output_type": "execute_result"
    }
   ],
   "source": [
    "a if a<b else b"
   ]
  },
  {
   "cell_type": "code",
   "execution_count": 122,
   "id": "7de5eab3",
   "metadata": {},
   "outputs": [
    {
     "data": {
      "text/plain": [
       "9"
      ]
     },
     "execution_count": 122,
     "metadata": {},
     "output_type": "execute_result"
    }
   ],
   "source": [
    "a if a>b else b"
   ]
  },
  {
   "cell_type": "code",
   "execution_count": 124,
   "id": "5cdd5e5b",
   "metadata": {},
   "outputs": [
    {
     "name": "stdout",
     "output_type": "stream",
     "text": [
      "4\n"
     ]
    }
   ],
   "source": [
    "if a < b:\n",
    "    result = a\n",
    "elif a == b:\n",
    "    result = 1\n",
    "else:\n",
    "    result = b\n",
    "print(result)"
   ]
  },
  {
   "cell_type": "code",
   "execution_count": 125,
   "id": "cd1db489",
   "metadata": {},
   "outputs": [
    {
     "data": {
      "text/plain": [
       "(3, 5)"
      ]
     },
     "execution_count": 125,
     "metadata": {},
     "output_type": "execute_result"
    }
   ],
   "source": [
    "#input, output statements\n",
    "a,b=3,5\n",
    "a,b"
   ]
  },
  {
   "cell_type": "code",
   "execution_count": 126,
   "id": "7f9d087f",
   "metadata": {},
   "outputs": [
    {
     "name": "stdout",
     "output_type": "stream",
     "text": [
      "3 5\n"
     ]
    }
   ],
   "source": [
    "print(a,b)  #default space seperator"
   ]
  },
  {
   "cell_type": "code",
   "execution_count": 127,
   "id": "99a438d7",
   "metadata": {},
   "outputs": [
    {
     "name": "stdout",
     "output_type": "stream",
     "text": [
      "3:5\n"
     ]
    }
   ],
   "source": [
    "print(a,b,sep=':')      # set seperator as ':'"
   ]
  },
  {
   "cell_type": "code",
   "execution_count": 128,
   "id": "b0f67bce",
   "metadata": {},
   "outputs": [
    {
     "name": "stdout",
     "output_type": "stream",
     "text": [
      "3#5\n"
     ]
    }
   ],
   "source": [
    "print (a,b,sep='#')       #set seperator as '#'"
   ]
  },
  {
   "cell_type": "code",
   "execution_count": 129,
   "id": "73acdda2",
   "metadata": {},
   "outputs": [
    {
     "name": "stdout",
     "output_type": "stream",
     "text": [
      "sum of 3 and 5 is 8\n"
     ]
    }
   ],
   "source": [
    "#placeholder :: {}\n",
    "print(\"sum of {} and {} is {}\" .format(a,b,a+b))"
   ]
  },
  {
   "cell_type": "code",
   "execution_count": 133,
   "id": "d9fc0c54",
   "metadata": {},
   "outputs": [
    {
     "name": "stdout",
     "output_type": "stream",
     "text": [
      "5\n"
     ]
    }
   ],
   "source": [
    "#take input from user as string\n",
    "a=input()"
   ]
  },
  {
   "cell_type": "code",
   "execution_count": 134,
   "id": "81de71dd",
   "metadata": {},
   "outputs": [
    {
     "data": {
      "text/plain": [
       "str"
      ]
     },
     "execution_count": 134,
     "metadata": {},
     "output_type": "execute_result"
    }
   ],
   "source": [
    "type(a)"
   ]
  },
  {
   "cell_type": "code",
   "execution_count": 135,
   "id": "a5c86fe6",
   "metadata": {},
   "outputs": [
    {
     "name": "stdout",
     "output_type": "stream",
     "text": [
      "5\n"
     ]
    }
   ],
   "source": [
    "#take input from user as integer\n",
    "b=int(input())"
   ]
  },
  {
   "cell_type": "code",
   "execution_count": 136,
   "id": "159bd212",
   "metadata": {},
   "outputs": [
    {
     "data": {
      "text/plain": [
       "int"
      ]
     },
     "execution_count": 136,
     "metadata": {},
     "output_type": "execute_result"
    }
   ],
   "source": [
    "type(b)"
   ]
  },
  {
   "cell_type": "code",
   "execution_count": 137,
   "id": "c075334e",
   "metadata": {},
   "outputs": [
    {
     "name": "stdout",
     "output_type": "stream",
     "text": [
      "Enter a value10\n"
     ]
    }
   ],
   "source": [
    "b=int(input(\"Enter a value\"))"
   ]
  },
  {
   "cell_type": "code",
   "execution_count": 142,
   "id": "6323a5a4",
   "metadata": {},
   "outputs": [
    {
     "name": "stdout",
     "output_type": "stream",
     "text": [
      "1 5 9\n"
     ]
    }
   ],
   "source": [
    "#take more than 1 integer input at once\n",
    "a,b,c= map(int,input().split())         # default seperator is space"
   ]
  },
  {
   "cell_type": "code",
   "execution_count": 143,
   "id": "d0e1aa4f",
   "metadata": {},
   "outputs": [
    {
     "data": {
      "text/plain": [
       "15"
      ]
     },
     "execution_count": 143,
     "metadata": {},
     "output_type": "execute_result"
    }
   ],
   "source": [
    "a+b+c"
   ]
  },
  {
   "cell_type": "code",
   "execution_count": 139,
   "id": "1144cf1f",
   "metadata": {},
   "outputs": [
    {
     "name": "stdout",
     "output_type": "stream",
     "text": [
      "1,2,3\n"
     ]
    }
   ],
   "source": [
    "#take more than 1 integer input at once\n",
    "a,b,c= map(int,input().split(','))         # set seperator to coma(,)"
   ]
  },
  {
   "cell_type": "code",
   "execution_count": 140,
   "id": "126bc9ba",
   "metadata": {},
   "outputs": [
    {
     "data": {
      "text/plain": [
       "6"
      ]
     },
     "execution_count": 140,
     "metadata": {},
     "output_type": "execute_result"
    }
   ],
   "source": [
    "a+b+c"
   ]
  },
  {
   "cell_type": "code",
   "execution_count": 144,
   "id": "6ac63f16",
   "metadata": {},
   "outputs": [
    {
     "name": "stdout",
     "output_type": "stream",
     "text": [
      "vignan guntur ap\n"
     ]
    }
   ],
   "source": [
    "#take more than 1 string input at once\n",
    "a,b,c= map(str, input().split())\n"
   ]
  },
  {
   "cell_type": "code",
   "execution_count": 145,
   "id": "e6496277",
   "metadata": {},
   "outputs": [
    {
     "data": {
      "text/plain": [
       "'vignan'"
      ]
     },
     "execution_count": 145,
     "metadata": {},
     "output_type": "execute_result"
    }
   ],
   "source": [
    "a"
   ]
  },
  {
   "cell_type": "code",
   "execution_count": 146,
   "id": "da6e5d59",
   "metadata": {},
   "outputs": [
    {
     "data": {
      "text/plain": [
       "'ap'"
      ]
     },
     "execution_count": 146,
     "metadata": {},
     "output_type": "execute_result"
    }
   ],
   "source": [
    "c"
   ]
  },
  {
   "cell_type": "code",
   "execution_count": null,
   "id": "f08ef90d",
   "metadata": {},
   "outputs": [],
   "source": [
    "#conditional or decision making or branching statements\n",
    "\"\"\"\n",
    "1.If\n",
    "2. If Else\n",
    "3. nested if else\n",
    "4. else if ladder (elif ladder)\n",
    "\"\"\""
   ]
  },
  {
   "cell_type": "code",
   "execution_count": 147,
   "id": "e6733328",
   "metadata": {},
   "outputs": [
    {
     "name": "stdout",
     "output_type": "stream",
     "text": [
      "9\n",
      "Odd number\n"
     ]
    }
   ],
   "source": [
    "#check the given input number is even or odd\n",
    "\n",
    "n=int(input())\n",
    "if n%2==0:\n",
    "    print(\"Even number\")\n",
    "else:\n",
    "    print(\"Odd number\")\n",
    "    \n",
    "#when if condition is false then it goes to else block otherwise ignore the else block\n",
    "#please follow the require Indentation"
   ]
  },
  {
   "cell_type": "code",
   "execution_count": 151,
   "id": "e1459a16",
   "metadata": {},
   "outputs": [
    {
     "name": "stdout",
     "output_type": "stream",
     "text": [
      "8\n",
      "Even number\n"
     ]
    }
   ],
   "source": [
    "#check the given input number is even or odd without arithmetic operator\n",
    "#here we will use bitwise-and operator (\"&\") with 1 , Such that \n",
    "#If number is even, its binary representation ends in 0, so number & 1 will be 0.\n",
    "#If number is odd, its binary representation ends in 1, so number & 1 will be 1.\n",
    "\n",
    "n=int(input())\n",
    "if n&1==0:\n",
    "    print(\"Even number\")\n",
    "else:\n",
    "    print(\"Odd number\")"
   ]
  },
  {
   "cell_type": "code",
   "execution_count": 154,
   "id": "d979cc92",
   "metadata": {},
   "outputs": [
    {
     "name": "stdout",
     "output_type": "stream",
     "text": [
      "Enter the year: 2020\n",
      "Leap year\n"
     ]
    }
   ],
   "source": [
    "#check if given year is leap year or not using nested if else\n",
    "\n",
    "n=int(input(\"Enter the year: \"))\n",
    "if n%4==0:\n",
    "    if n%100==0:\n",
    "        if n%400==0:\n",
    "            print(\"Leap year\")\n",
    "        else:\n",
    "            print(\"Not a leap year\")\n",
    "    else:\n",
    "        print(\"Leap year\")\n",
    "else:\n",
    "    print(\"Not a leap year\")\n"
   ]
  },
  {
   "cell_type": "code",
   "execution_count": 153,
   "id": "c9cb2e01",
   "metadata": {},
   "outputs": [
    {
     "name": "stdout",
     "output_type": "stream",
     "text": [
      "Enter the year: 1400\n",
      "No, It is not a leap year\n"
     ]
    }
   ],
   "source": [
    "#check if given year is leap year or not\n",
    "\n",
    "n=int(input(\"Enter the year: \"))\n",
    "if n%4==0 and n%100!=0:\n",
    "    print(\"Yes, It is a leap year\")\n",
    "elif n%4==0 and n%100==0 and n%400==0:\n",
    "    print(\"Yes, It is a leap year\")\n",
    "else:\n",
    "    print(\"No, It is not a leap year\")\n"
   ]
  },
  {
   "cell_type": "code",
   "execution_count": 157,
   "id": "e174f683",
   "metadata": {},
   "outputs": [
    {
     "name": "stdout",
     "output_type": "stream",
     "text": [
      "12 34 86\n",
      "86\n"
     ]
    }
   ],
   "source": [
    "#print the greatest among three number  using nested if else\n",
    "\n",
    "a,b,c= map(int, input().split())\n",
    "if a>b:\n",
    "    if a>c:\n",
    "        print(a)\n",
    "    else:\n",
    "        print(c)\n",
    "else:\n",
    "    if b>c:\n",
    "        print(b)\n",
    "    else:\n",
    "        print(c)"
   ]
  },
  {
   "cell_type": "code",
   "execution_count": 155,
   "id": "eb5eb749",
   "metadata": {},
   "outputs": [
    {
     "name": "stdout",
     "output_type": "stream",
     "text": [
      "1 5 9\n",
      "9\n"
     ]
    }
   ],
   "source": [
    "#print the greatest among three number  using if elif else with some logical operator\n",
    "\n",
    "a,b,c= map(int, input().split())\n",
    "if a>=b and a>=c:\n",
    "    print(a)\n",
    "elif b>=a and b>=c:\n",
    "    print(b)\n",
    "else:\n",
    "    print(c)"
   ]
  },
  {
   "cell_type": "code",
   "execution_count": 156,
   "id": "5e064433",
   "metadata": {},
   "outputs": [
    {
     "data": {
      "text/plain": [
       "9"
      ]
     },
     "execution_count": 156,
     "metadata": {},
     "output_type": "execute_result"
    }
   ],
   "source": [
    "max(a,b,c)         #using inbuilt function max() to print maximum among given elements"
   ]
  },
  {
   "cell_type": "code",
   "execution_count": null,
   "id": "c6b5430c",
   "metadata": {},
   "outputs": [],
   "source": [
    "# Else if ladder\n",
    "\"\"\"\n",
    "if condition:\n",
    "    statements\n",
    "elif condition:\n",
    "    statements\n",
    "elif condition:\n",
    "    statements\n",
    "    ---\n",
    "    ---\n",
    "    ---\n",
    "else:\n",
    "    statements\n",
    "\"\"\""
   ]
  },
  {
   "cell_type": "code",
   "execution_count": 158,
   "id": "1dd31254",
   "metadata": {},
   "outputs": [
    {
     "name": "stdout",
     "output_type": "stream",
     "text": [
      "99\n",
      "OutStanding\n"
     ]
    }
   ],
   "source": [
    "# Grade the marks in defined range\n",
    "\n",
    "n=int(input())\n",
    "if n not in range(0,100):\n",
    "    print(\"Invalid Marks Entered\")\n",
    "else:\n",
    "    if n>=90:\n",
    "        print(\"OutStanding\")\n",
    "    elif n>=80 and n<90:\n",
    "        print(\"Distinction\")\n",
    "    elif n>=60 and n<80:\n",
    "        print(\"First Division\")\n",
    "    elif n>=45 and n<60:\n",
    "        print(\"Second Division\")\n",
    "    elif n>=30 and n<45:\n",
    "        print(\"Third Division\")\n",
    "    else:\n",
    "        print(\"Fail\")"
   ]
  },
  {
   "cell_type": "code",
   "execution_count": 161,
   "id": "318bf498",
   "metadata": {},
   "outputs": [
    {
     "name": "stdout",
     "output_type": "stream",
     "text": [
      "Enter a value: 23\n",
      "Enter b value: 23\n",
      "Enter operator: +\n",
      "23 + 23 = 46\n"
     ]
    }
   ],
   "source": [
    "#'f' before the string: The f indicates that this is a formatted string.\n",
    "#Curly braces {}: Anything inside the curly braces {} is evaluated as a Python expression and the result is embedded in the string.\n",
    "\n",
    "a = int(input(\"Enter a value: \"))\n",
    "b = int(input(\"Enter b value: \"))\n",
    "operator=input(\"Enter operator: \")\n",
    "#operators = ['+', '-', '*', '/', '%', '//', '**']\n",
    "if operator == '+':\n",
    "    print(f\"{a} {operator} {b} = {a + b}\")\n",
    "elif operator == '-':\n",
    "    print(f\"{a} {operator} {b} = {a - b}\")\n",
    "elif operator == '*':\n",
    "    print(f\"{a} {operator} {b} = {a * b}\")\n",
    "elif operator == '/':\n",
    "    print(f\"{a} {operator} {b} = {a / b}\")\n",
    "elif operator == '%':\n",
    "    print(f\"{a} {operator} {b} = {a % b}\")\n",
    "elif operator == '//':\n",
    "    print(f\"{a} {operator} {b} = {a // b}\")\n",
    "elif operator == '**':\n",
    "    print(f\"{a} {operator} {b} = {a ** b}\")\n",
    "else:\n",
    "    print(\"Invalid Operator\")\n"
   ]
  },
  {
   "cell_type": "code",
   "execution_count": null,
   "id": "40006958",
   "metadata": {},
   "outputs": [],
   "source": [
    "#loops in python\n",
    "\"\"\"\n",
    "1. while --> when you don't know how many iteration you need to follow\n",
    "2. for --> when you know the total number of iteration \n",
    "\"\"\"\n",
    "\n",
    "while condition:\n",
    "    #body of while"
   ]
  },
  {
   "cell_type": "code",
   "execution_count": 4,
   "id": "c1d151b4",
   "metadata": {},
   "outputs": [
    {
     "name": "stdout",
     "output_type": "stream",
     "text": [
      "5\n",
      "Hello\n",
      "Hello\n",
      "Hello\n",
      "Hello\n",
      "Hello\n",
      "World\n"
     ]
    }
   ],
   "source": [
    "n=int(input())\n",
    "i=1\n",
    "while i<=n:\n",
    "    print(\"Hello\")\n",
    "    i+=1\n",
    "print(\"World\")                #out of while loop"
   ]
  },
  {
   "cell_type": "code",
   "execution_count": 6,
   "id": "65f77858",
   "metadata": {},
   "outputs": [
    {
     "name": "stdout",
     "output_type": "stream",
     "text": [
      "10\n",
      "2\n",
      "4\n",
      "6\n",
      "8\n",
      "10\n"
     ]
    }
   ],
   "source": [
    "#print all the even number less than n\n",
    "\n",
    "n=int(input())\n",
    "i=1\n",
    "while i<=n:\n",
    "    if(i%2==0):\n",
    "        print(i)\n",
    "    i+=1\n",
    "                "
   ]
  },
  {
   "cell_type": "code",
   "execution_count": 7,
   "id": "42cac9a5",
   "metadata": {},
   "outputs": [
    {
     "name": "stdout",
     "output_type": "stream",
     "text": [
      "20\n",
      "2 4 6 8 10 12 14 16 18 20 "
     ]
    }
   ],
   "source": [
    "#print all the even number less than n\n",
    "\n",
    "n=int(input())\n",
    "i=1\n",
    "while i<=n:\n",
    "    if(i%2==0):\n",
    "        print(i, end=' ')          # i will print all the number in a row\n",
    "    i+=1\n",
    "                "
   ]
  },
  {
   "cell_type": "code",
   "execution_count": 9,
   "id": "19c51763",
   "metadata": {},
   "outputs": [
    {
     "name": "stdout",
     "output_type": "stream",
     "text": [
      "30\n",
      "1 2 3 5 6 10 15 30 Finish\n"
     ]
    }
   ],
   "source": [
    "#print all the factors of a given number\n",
    "\n",
    "n=int(input())\n",
    "i=1\n",
    "while i<=n:\n",
    "    if(n%i==0):\n",
    "        print(i, end=' ')\n",
    "    i+=1\n",
    "print(\"Finish\")"
   ]
  },
  {
   "cell_type": "code",
   "execution_count": 12,
   "id": "54b62671",
   "metadata": {},
   "outputs": [
    {
     "name": "stdout",
     "output_type": "stream",
     "text": [
      "59\n",
      "Prime Number\n"
     ]
    }
   ],
   "source": [
    "#Check if given number is prime or not\n",
    "\n",
    "n=int(input())\n",
    "i=1\n",
    "c=0\n",
    "while i<=n:\n",
    "    if(n%i==0):\n",
    "        c+=1\n",
    "    i+=1\n",
    "if c==2:\n",
    "    print(\"Prime Number\")\n",
    "else:\n",
    "    print(\"Not a prime number\")\n",
    "#print(\"Prime\") if c==2 else print(\"Not a prime\")\n",
    "#To decrease the time and space complexity we can consider only no. in between 2 to n//2 and print prime if count==0 else not prime"
   ]
  },
  {
   "cell_type": "code",
   "execution_count": 15,
   "id": "22decb47",
   "metadata": {},
   "outputs": [
    {
     "name": "stdout",
     "output_type": "stream",
     "text": [
      "7\n",
      "Prime\n"
     ]
    }
   ],
   "source": [
    "#To decrease the time and space complexity we can consider only no. in between 2 to n//2 and print prime if flag==True else not prime\n",
    "\n",
    "n=int(input())\n",
    "i,flag=2,True\n",
    "while i<=n//2:                             #while i<=sqrt(n)  -> from math import sqrt\n",
    "    if n%i==0:\n",
    "        flag=False\n",
    "        break\n",
    "    i+=1\n",
    "print(\"Prime\") if flag==True else print(\"Not a prime\")\n"
   ]
  },
  {
   "cell_type": "code",
   "execution_count": 16,
   "id": "d4c99875",
   "metadata": {},
   "outputs": [
    {
     "name": "stdout",
     "output_type": "stream",
     "text": [
      "8754\n",
      "24\n"
     ]
    }
   ],
   "source": [
    "#sum of all the digits of given number\n",
    "\n",
    "n=int(input())\n",
    "sum=0\n",
    "while n>0:\n",
    "    sum=sum+(n%10)                 #just sum all the remainder\n",
    "    n=n//10                         #update the number everytime by dividing that with 10\n",
    "print(sum)"
   ]
  },
  {
   "cell_type": "code",
   "execution_count": 17,
   "id": "7a395005",
   "metadata": {},
   "outputs": [
    {
     "name": "stdout",
     "output_type": "stream",
     "text": [
      "6358\n",
      "14\n"
     ]
    }
   ],
   "source": [
    "#sum of first and last digit of a given number\n",
    "\n",
    "n=int(input())\n",
    "sum=0\n",
    "sum=sum+(n%10) \n",
    "while n>10:\n",
    "    n=n//10\n",
    "sum=sum+(n%10) \n",
    "print(sum)"
   ]
  },
  {
   "cell_type": "code",
   "execution_count": 18,
   "id": "e14b1aab",
   "metadata": {},
   "outputs": [
    {
     "name": "stdout",
     "output_type": "stream",
     "text": [
      "8527\n",
      "9436\n"
     ]
    }
   ],
   "source": [
    "#input : 8527\n",
    "#output : 9436\n",
    "#add 1 to the digit if digit is even else substract 1 if digit is odd\n",
    "\n",
    "n=int(input())\n",
    "output=0\n",
    "k=1\n",
    "while n>0:\n",
    "    r=n%10\n",
    "    if(r%2==0):\n",
    "        output=output+(r+1)*k\n",
    "        k=k*10\n",
    "        n=n//10\n",
    "    else:\n",
    "        output=output+(r-1)*k\n",
    "        k=k*10\n",
    "        n=n//10\n",
    "print(output)"
   ]
  },
  {
   "cell_type": "code",
   "execution_count": 26,
   "id": "a66d8153",
   "metadata": {},
   "outputs": [
    {
     "name": "stdout",
     "output_type": "stream",
     "text": [
      "7856\n",
      "8\n"
     ]
    }
   ],
   "source": [
    "#sum of all the digits of given number iteratively to reduce that in single digit number\n",
    "# input n=7856 ---> (7+8+5+6)=26 ---> (2+6)=8 ; output=8\n",
    "\n",
    "n=int(input())\n",
    "while n>9:\n",
    "    sum=0\n",
    "    while n>0:\n",
    "        sum=sum+(n%10)                 \n",
    "        n=n//10  \n",
    "    n=sum \n",
    "print(sum)"
   ]
  },
  {
   "cell_type": "code",
   "execution_count": null,
   "id": "072b85f8",
   "metadata": {},
   "outputs": [],
   "source": []
  }
 ],
 "metadata": {
  "kernelspec": {
   "display_name": "Python 3 (ipykernel)",
   "language": "python",
   "name": "python3"
  },
  "language_info": {
   "codemirror_mode": {
    "name": "ipython",
    "version": 3
   },
   "file_extension": ".py",
   "mimetype": "text/x-python",
   "name": "python",
   "nbconvert_exporter": "python",
   "pygments_lexer": "ipython3",
   "version": "3.10.9"
  }
 },
 "nbformat": 4,
 "nbformat_minor": 5
}
