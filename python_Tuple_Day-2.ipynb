{
 "cells": [
  {
   "cell_type": "code",
   "execution_count": null,
   "id": "e53fcf1f",
   "metadata": {},
   "outputs": [],
   "source": [
    "#Tuples- A tuple is collection which is ordered and unchangable.\n",
    "#It can be homogenous or heterogenous\n",
    "#It is written in rounded brackets    :: ()\n"
   ]
  },
  {
   "cell_type": "code",
   "execution_count": 1,
   "id": "3060af0f",
   "metadata": {},
   "outputs": [
    {
     "name": "stdout",
     "output_type": "stream",
     "text": [
      "('apple',)\n"
     ]
    }
   ],
   "source": [
    "#creation of tuple of one element\n",
    "thistuple= (\"apple\",)            #comma after first element is mandatory\n",
    "print(thistuple)"
   ]
  },
  {
   "cell_type": "code",
   "execution_count": 2,
   "id": "36612dae",
   "metadata": {},
   "outputs": [
    {
     "name": "stdout",
     "output_type": "stream",
     "text": [
      "('apple', 'banana', 'cherry')\n"
     ]
    }
   ],
   "source": [
    "#creation of tuple of more elements\n",
    "thistuple= (\"apple\",\"banana\", \"cherry\")           \n",
    "print(thistuple)"
   ]
  },
  {
   "cell_type": "code",
   "execution_count": 7,
   "id": "0448521a",
   "metadata": {},
   "outputs": [
    {
     "name": "stdout",
     "output_type": "stream",
     "text": [
      "(1, 2, 3, 4, 5, 6, 7, 8)\n",
      "[1, 2, 3, 4, 5, 6, 7, 8]\n",
      "[1, 2, 3, 4, 5, 6, 7, 8, 9]\n",
      "(1, 2, 3, 4, 5, 6, 7, 8, 9)\n"
     ]
    }
   ],
   "source": [
    "#You cannot perform any changes in tuple in tuple format itself but \n",
    "#we can do edit by converting the tuple in list and \n",
    "#then convert back to tuple\n",
    "\n",
    "tup=(1,2,3,4,5,6,7,8)\n",
    "print(tup)\n",
    "l=list(tup)\n",
    "print(l)\n",
    "l.append(9)\n",
    "print(l)\n",
    "tup=tuple(l)\n",
    "print(tup)"
   ]
  },
  {
   "cell_type": "code",
   "execution_count": 9,
   "id": "2f9e6e7a",
   "metadata": {},
   "outputs": [
    {
     "name": "stdout",
     "output_type": "stream",
     "text": [
      "(4, 5, 6, 7)\n"
     ]
    }
   ],
   "source": [
    "#you cannot remove anything from tuple but you can delete whole tuple\n",
    "tup=(4,5,6,7)\n",
    "print(tup)\n"
   ]
  },
  {
   "cell_type": "code",
   "execution_count": 10,
   "id": "0212e02e",
   "metadata": {},
   "outputs": [],
   "source": [
    "del tup"
   ]
  },
  {
   "cell_type": "code",
   "execution_count": 11,
   "id": "71986490",
   "metadata": {},
   "outputs": [
    {
     "ename": "NameError",
     "evalue": "name 'tup' is not defined",
     "output_type": "error",
     "traceback": [
      "\u001b[1;31m---------------------------------------------------------------------------\u001b[0m",
      "\u001b[1;31mNameError\u001b[0m                                 Traceback (most recent call last)",
      "\u001b[1;32m~\\AppData\\Local\\Temp\\ipykernel_10208\\2928678360.py\u001b[0m in \u001b[0;36m<module>\u001b[1;34m\u001b[0m\n\u001b[1;32m----> 1\u001b[1;33m \u001b[0mprint\u001b[0m\u001b[1;33m(\u001b[0m\u001b[0mtup\u001b[0m\u001b[1;33m)\u001b[0m\u001b[1;33m\u001b[0m\u001b[1;33m\u001b[0m\u001b[0m\n\u001b[0m",
      "\u001b[1;31mNameError\u001b[0m: name 'tup' is not defined"
     ]
    }
   ],
   "source": [
    "print(tup)"
   ]
  },
  {
   "cell_type": "code",
   "execution_count": null,
   "id": "bef9ec84",
   "metadata": {},
   "outputs": [],
   "source": [
    "#built-in function in tuple\n",
    "'''\n",
    "all() :: Returns True if all elements of the iterable are true (or if the iterable is empty)\n",
    "any() :: Returns True if any element of the iterable is true. If the iterable is empty, it returns False\n",
    "len() :: Returns the length (the number of items) of an object\n",
    "enumerate() :: allows iteration over an iterable, providing both the index and value at each iteration\n",
    "max() :: Returns the largest item in an iterable or the largest of two or more arguments.\n",
    "min() :: Returns the smallest item in an iterable or the smallest of two or more arguments\n",
    "sum() :: Sums the items of an iterable from left to right and returns the total\n",
    "sorted() :: Returns a new sorted list from the items in the iterable\n",
    "tuple() :: Returns a tuple whose items are the same and in the same order as iterable's items\n",
    "'''"
   ]
  },
  {
   "cell_type": "code",
   "execution_count": 12,
   "id": "2d899915",
   "metadata": {},
   "outputs": [
    {
     "name": "stdout",
     "output_type": "stream",
     "text": [
      "([2, 1], 'abc', 0, 9)\n"
     ]
    }
   ],
   "source": [
    "tupl=([2,3], \"abc\", 0, 9)\n",
    "tupl[0][1]=1\n",
    "print(tupl)\n",
    "\n",
    "#here we have done changes in list within the tuple not directly tuple as tuple is immutable"
   ]
  },
  {
   "cell_type": "code",
   "execution_count": 14,
   "id": "f47c4cdf",
   "metadata": {},
   "outputs": [
    {
     "name": "stdout",
     "output_type": "stream",
     "text": [
      "('x', 'y', 'z')\n",
      "('z', 'y', 'x')\n"
     ]
    }
   ],
   "source": [
    "#reverse the tuple\n",
    "\n",
    "tuple1=('x','y','z')\n",
    "print(tuple1)\n",
    "li=list(tuple1)\n",
    "li=li[::-1]\n",
    "tuple1=tuple(li)\n",
    "print(tuple1)"
   ]
  },
  {
   "cell_type": "code",
   "execution_count": 15,
   "id": "19bbd3bc",
   "metadata": {},
   "outputs": [
    {
     "name": "stdout",
     "output_type": "stream",
     "text": [
      "<enumerate object at 0x0000024676C80D00>\n"
     ]
    }
   ],
   "source": [
    "print(enumerate(tuple1))"
   ]
  },
  {
   "cell_type": "code",
   "execution_count": 17,
   "id": "52927f9a",
   "metadata": {},
   "outputs": [
    {
     "name": "stdout",
     "output_type": "stream",
     "text": [
      "True\n",
      "False\n"
     ]
    }
   ],
   "source": [
    "#all(iterables) \n",
    "numbers = (1, 2, 3, 4, 5)\n",
    "print(all(numbers))  # Output: True (all elements are True)\n",
    "\n",
    "words = (\"apple\", \"banana\", \"\", \"cherry\")\n",
    "print(all(words))  # Output: False (empty string evaluates to False)\n"
   ]
  },
  {
   "cell_type": "code",
   "execution_count": 18,
   "id": "7b989171",
   "metadata": {},
   "outputs": [
    {
     "name": "stdout",
     "output_type": "stream",
     "text": [
      "True\n"
     ]
    }
   ],
   "source": [
    "# any(iterables)\n",
    "my_tuple = (False, False, True)\n",
    "print(any(my_tuple))  # Output: True (at least one element is True)\n"
   ]
  },
  {
   "cell_type": "code",
   "execution_count": 19,
   "id": "ab95d07e",
   "metadata": {},
   "outputs": [
    {
     "name": "stdout",
     "output_type": "stream",
     "text": [
      "5\n"
     ]
    }
   ],
   "source": [
    "# len(iterables)\n",
    "my_tuple = (1, 2, 3, 4, 5)\n",
    "print(len(my_tuple))  # Output: 5 (length of the tuple)"
   ]
  },
  {
   "cell_type": "code",
   "execution_count": 20,
   "id": "088ad58c",
   "metadata": {},
   "outputs": [
    {
     "name": "stdout",
     "output_type": "stream",
     "text": [
      "Index: 1, Value: a\n",
      "Index: 2, Value: b\n",
      "Index: 3, Value: c\n"
     ]
    }
   ],
   "source": [
    "# enumerate(iterables, start=n)\n",
    "my_tuple = ('a', 'b', 'c')\n",
    "for index, value in enumerate(my_tuple, start=1):\n",
    "    print(f\"Index: {index}, Value: {value}\")\n",
    "# Output:\n",
    "# Index: 1, Value: a\n",
    "# Index: 2, Value: b\n",
    "# Index: 3, Value: c"
   ]
  },
  {
   "cell_type": "code",
   "execution_count": 21,
   "id": "2fc7895b",
   "metadata": {},
   "outputs": [
    {
     "name": "stdout",
     "output_type": "stream",
     "text": [
      "10\n"
     ]
    }
   ],
   "source": [
    "# min(iterable)\n",
    "my_tuple = (10, 20, 30)\n",
    "print(min(my_tuple)) "
   ]
  },
  {
   "cell_type": "code",
   "execution_count": 22,
   "id": "263db9e8",
   "metadata": {},
   "outputs": [
    {
     "name": "stdout",
     "output_type": "stream",
     "text": [
      "30\n"
     ]
    }
   ],
   "source": [
    "# max(iterable)\n",
    "my_tuple = (10, 20, 30)\n",
    "print(max(my_tuple)) "
   ]
  },
  {
   "cell_type": "code",
   "execution_count": 23,
   "id": "4c4e29cd",
   "metadata": {},
   "outputs": [
    {
     "name": "stdout",
     "output_type": "stream",
     "text": [
      "15\n"
     ]
    }
   ],
   "source": [
    "# sum(iterable)\n",
    "my_tuple = (1, 2, 3, 4, 5)\n",
    "print(sum(my_tuple))  # Output: 15 (sum of all elements in the tuple)"
   ]
  },
  {
   "cell_type": "code",
   "execution_count": 24,
   "id": "177aabde",
   "metadata": {},
   "outputs": [
    {
     "name": "stdout",
     "output_type": "stream",
     "text": [
      "[1, 1, 2, 3, 4, 5, 9]\n"
     ]
    }
   ],
   "source": [
    "#sorted(iterable)\n",
    "my_tuple = (3, 1, 4, 1, 5, 9, 2)\n",
    "sorted_tuple = sorted(my_tuple)\n",
    "print(sorted_tuple)  # Output: [1, 1, 2, 3, 4, 5, 9] (sorted tuple)"
   ]
  },
  {
   "cell_type": "code",
   "execution_count": null,
   "id": "e9288274",
   "metadata": {},
   "outputs": [],
   "source": []
  }
 ],
 "metadata": {
  "kernelspec": {
   "display_name": "Python 3 (ipykernel)",
   "language": "python",
   "name": "python3"
  },
  "language_info": {
   "codemirror_mode": {
    "name": "ipython",
    "version": 3
   },
   "file_extension": ".py",
   "mimetype": "text/x-python",
   "name": "python",
   "nbconvert_exporter": "python",
   "pygments_lexer": "ipython3",
   "version": "3.9.13"
  }
 },
 "nbformat": 4,
 "nbformat_minor": 5
}
